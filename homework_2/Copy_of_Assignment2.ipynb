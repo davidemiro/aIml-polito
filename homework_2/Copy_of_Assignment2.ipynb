{
 "nbformat": 4,
 "nbformat_minor": 0,
 "metadata": {
  "colab": {
   "name": "Copy of Assignment2.ipynb",
   "provenance": []
  },
  "kernelspec": {
   "name": "python3",
   "display_name": "Python 3"
  },
  "accelerator": "GPU",
  "pycharm": {
   "stem_cell": {
    "cell_type": "raw",
    "source": [],
    "metadata": {
     "collapsed": false
    }
   }
  }
 },
 "cells": [
  {
   "cell_type": "markdown",
   "metadata": {
    "id": "c9QcGnGPdX2C",
    "colab_type": "text"
   },
   "source": [
    "\n",
    "**Install requirements**"
   ]
  },
  {
   "cell_type": "code",
   "metadata": {
    "id": "k9O3aM3Tb28q",
    "colab_type": "code",
    "colab": {}
   },
   "source": [
    "#!pip3 install 'torch==1.3.1'\n",
    "#!pip3 install 'torchvision==0.4.2'\n",
    "#!pip3 install 'Pillow-SIMD'\n",
    "#!pip3 install 'tqdm'\n"
   ],
   "execution_count": 0,
   "outputs": []
  },
  {
   "cell_type": "markdown",
   "metadata": {
    "id": "fo942LMOdlh4",
    "colab_type": "text"
   },
   "source": [
    "\n",
    "**Import libraries**"
   ]
  },
  {
   "cell_type": "code",
   "metadata": {
    "id": "DokFOdD1dJEl",
    "colab_type": "code",
    "colab": {}
   },
   "source": [
    "import os\n",
    "import logging\n",
    "\n",
    "import torch\n",
    "import torch.nn as nn\n",
    "import torch.optim as optim\n",
    "from torch.utils.data import Subset, DataLoader\n",
    "from torch.backends import cudnn\n",
    "\n",
    "import torchvision\n",
    "from torchvision import transforms \n",
    "from torchvision.models import alexnet\n",
    "from torchvision.models import vgg11\n",
    "from torchvision.models import resnet18\n",
    "\n",
    "\n",
    "import torch.utils.data as data\n",
    "import torchvision.datasets\n",
    "\n",
    "from PIL import Image\n",
    "from tqdm import tqdm\n",
    "\n",
    "import matplotlib.pyplot as plt\n"
   ],
   "execution_count": 0,
   "outputs": []
  },
  {
   "cell_type": "markdown",
   "metadata": {
    "id": "OIDLJuIXK_vh",
    "colab_type": "text"
   },
   "source": [
    "**Set Arguments**"
   ]
  },
  {
   "cell_type": "code",
   "metadata": {
    "id": "d5PkYfqfK_SA",
    "colab_type": "code",
    "colab": {}
   },
   "source": [
    "DEVICE = 'cuda' # 'cuda' or 'cpu'\n",
    "\n",
    "NUM_CLASSES = 101 # 101 + 1: There is am extra Background class that should be removed \n",
    "\n",
    "BATCH_SIZE =256    # Higher batch sizes allows for larger learning rates. An empirical heuristic suggests that, when changing\n",
    "                     # the batch size, learning rate should change by the same factor to have comparable results\n",
    "\n",
    "LR = 1e-3           # The initial Learning Rate\n",
    "MOMENTUM = 0.9       # Hyperparameter for SGD, keep this at 0.9 when using SGD\n",
    "WEIGHT_DECAY = 5e-5  # Regularization, you can keep this at the default\n",
    "\n",
    "NUM_EPOCHS = 30     # Total number of training epochs (iterations over dataset)\n",
    "STEP_SIZE = 20       # How many epochs before decreasing learning rate (if using a step-down policy)\n",
    "GAMMA = 0.1          # Multiplicative factor for learning rate step-down\n",
    "\n",
    "LOG_FREQUENCY = 10"
   ],
   "execution_count": 0,
   "outputs": []
  },
  {
   "cell_type": "markdown",
   "metadata": {
    "id": "9gwii0TBHvzh",
    "colab_type": "text"
   },
   "source": [
    "**Define Data Preprocessing**"
   ]
  },
  {
   "cell_type": "code",
   "metadata": {
    "id": "QUDdw4j2H0Mc",
    "colab_type": "code",
    "colab": {}
   },
   "source": [
    "# Define transforms for training phase\n",
    "\n",
    "train_transform = transforms.Compose([transforms.Resize(256),      # Resizes short size of the PIL image to 256\n",
    "                                       #transforms.RandomHorizontalFlip(),  \n",
    "                                       #transforms.RandomRotation(10),  \n",
    "                                       #transforms.RandomGrayscale(0.5),\n",
    "                                       #transforms.ColorJitter(),\n",
    "                                      \n",
    "                                       transforms.CenterCrop(224),  # Crops a central square patch of the image\n",
    "                                                                   # 224 because torchvision's AlexNet needs a 224x224 input!\n",
    "                                                                   # Remember this when applying different transformations, otherwise you get an error\n",
    "                                      transforms.ToTensor(), # Turn PIL Image to torch.Tensor\n",
    "                                      #transforms.Normalize((0.5, 0.5, 0.5), (0.5, 0.5, 0.5)) # Normalizes tensor with mean and standard deviation\n",
    "                                      transforms.Normalize ((0.485, 0.456, 0.406),(0.229, 0.224, 0.225))#Using mean and std of imageNet\n",
    "])\n",
    "# Define transforms for the evaluation phase\n",
    "eval_transform = transforms.Compose([transforms.Resize(256),\n",
    "                                      transforms.CenterCrop(224),\n",
    "                                      transforms.ToTensor(),\n",
    "                                      #transforms.Normalize((0.5, 0.5, 0.5), (0.5, 0.5, 0.5))\n",
    "                                      transforms.Normalize((0.485, 0.456, 0.406),(0.229, 0.224, 0.225))#Using mean and std of imageNet                                   \n",
    "])\n",
    "\n",
    "\n",
    "def pil_loader(path):\n",
    "    # open path as file to avoid ResourceWarning (https://github.com/python-pillow/Pillow/issues/835)\n",
    "    with open(path, 'rb') as f:\n",
    "        img = Image.open(f)\n",
    "        return img.convert('RGB')\n",
    "\n",
    "\n",
    "\n",
    "class Caltech():\n",
    "    def __init__(self, root, split, transform=None, target_transform=None):\n",
    "        #super(Caltech, self).__init__(root, transform=transform, target_transform=target_transform)\n",
    "        self.transform = transform\n",
    "        self.root = root\n",
    "        self.split = split # This defines the split you are going to use\n",
    "                           # (split files are called 'train.txt' and 'test.txt')\n",
    "\n",
    "        #Apro il file per lo split dei dati,rimuovo da queste BACKGROUND_Google,applico split seguendo il file di split\n",
    "        #mi salvo in lines i path relativi di  tutte le immagini e in target_map il mapping tra target scritto e target numerico comodo per modelli\n",
    "       \n",
    "\n",
    "        target_lines = [l.split(\"/\")[0] for l in self.split]\n",
    "        targets = []\n",
    "        for i in range(len(target_lines)):\n",
    "            if i == 0 or target_lines[i - 1] != target_lines[i]:\n",
    "                targets.append(target_lines[i])\n",
    "        self.map_target = {targets[i] : i  for i in range(len(targets))}\n",
    "\n",
    "\n",
    "\n",
    "\n",
    "        #Using RAM to go faster\n",
    "\n",
    "        self.image = []\n",
    "        self.label = []\n",
    "\n",
    "\n",
    "\n",
    "        '''\n",
    "        - Here you should implement the logic for reading the splits files and accessing elements\n",
    "        - If the RAM size allows it, it is faster to store all data in memory\n",
    "        - PyTorch Dataset classes use indexes to read elements\n",
    "        - You should provide a way for the __getitem__ method to access the image-label pair\n",
    "          through the index\n",
    "        - Labels should start from 0, so for Caltech you will have lables 0...100 (excluding the background class) \n",
    "        '''\n",
    "\n",
    "    def __getitem__(self, index):\n",
    "        '''\n",
    "        __getitem__ should access an element through its index\n",
    "        Args:\n",
    "            index (int): Index\n",
    "\n",
    "        Returns:\n",
    "            tuple: (sample, target) where target is class_index of the target class.\n",
    "        '''\n",
    "        # Provide a way to access image and label via index\n",
    "        # Image should be a PIL Image\n",
    "        # label can be int\n",
    "\n",
    "        image, label = pil_loader(self.root+\"/\"+self.split[index]),self.map_target[self.split[index].split(\"/\")[0]]\n",
    "        # Applies preprocessing when accessing the image\n",
    "        if self.transform is not None:\n",
    "            image = self.transform(image)\n",
    "        return image, label\n",
    "\n",
    "    def __len__(self):\n",
    "        '''\n",
    "        The __len__ method returns the length of the dataset\n",
    "        It is mandatory, as this is used by several other components\n",
    "        '''\n",
    "        length = len(self.split)\n",
    "        return length"
   ],
   "execution_count": 0,
   "outputs": []
  },
  {
   "cell_type": "markdown",
   "metadata": {
    "id": "2qYIHPzYLY7i",
    "colab_type": "text"
   },
   "source": [
    "**Prepare Dataset**"
   ]
  },
  {
   "cell_type": "markdown",
   "metadata": {
    "id": "Ip7p9EVQAzyq",
    "colab_type": "text"
   },
   "source": []
  },
  {
   "cell_type": "code",
   "metadata": {
    "id": "QfVq_uDHLbsR",
    "colab_type": "code",
    "outputId": "3cefa4c0-8ded-4822-ec7c-c72f273d01fa",
    "colab": {
     "base_uri": "https://localhost:8080/",
     "height": 68
    }
   },
   "source": [
    "# Clone github repository with data\n",
    "if not os.path.isdir('./Homework2-Caltech101'):\n",
    "  !git clone https://github.com/MachineLearning2020/Homework2-Caltech101.git\n",
    "\n",
    "DATA_DIR = 'Homework2-Caltech101/101_ObjectCategories'\n",
    "f1 = open('Homework2-Caltech101/train.txt','r')\n",
    "f2 = open('Homework2-Caltech101/test.txt','r')\n",
    "\n",
    "train_split = f1.readlines()\n",
    "test_split = f2.readlines()\n",
    "\n",
    "train_split = [l.replace('\\n', '') for l in train_split if l.startswith(\"BACKGROUND_Google\") == False]\n",
    "test_split = [l.replace('\\n', '') for l in test_split if l.startswith(\"BACKGROUND_Google\") == False]\n",
    "\n",
    "\n",
    "#Use this code to class balance\n",
    "validation_split = []\n",
    "train2_split = []\n",
    "j = 0\n",
    "for i in range(len(train_split)):\n",
    "  j = (j + 1) % 2\n",
    "  if i != 0 and train_split[i].split(\"/\")[0] != train_split[i - 1].split(\"/\")[0]:\n",
    "    j = 0\n",
    "  if j > 0:\n",
    "    train2_split.append(train_split[i])\n",
    "  else:\n",
    "    validation_split.append(train_split[i])\n",
    "\n",
    "#train_split = [train_split[i] for i in range(len(train_split)) if i % 3 > 0]\n",
    "#validation_split = [train_split[i] for i in range(len(train_split)) if i % 3 == 0]\n",
    "\n",
    "\n",
    "# Prepare Pytorch train/test Datasets\n",
    "train_dataset = Caltech(DATA_DIR,train2_split,train_transform)\n",
    "validation_dataset = Caltech(DATA_DIR,validation_split,eval_transform)\n",
    "test_dataset = Caltech(DATA_DIR,test_split,eval_transform)\n",
    "\n",
    "\n",
    "\n",
    "\n",
    "\n",
    "\n",
    "# Check dataset sizes\n",
    "print('Train Dataset: {}'.format(len(train_dataset)))\n",
    "print('Validation Dataset: {}'.format(len(validation_dataset)))\n",
    "print('Test Dataset: {}'.format(len(test_dataset)))"
   ],
   "execution_count": 47,
   "outputs": [
    {
     "output_type": "stream",
     "text": [
      "Train Dataset: 2868\n",
      "Validation Dataset: 2916\n",
      "Test Dataset: 2893\n"
     ],
     "name": "stdout"
    }
   ]
  },
  {
   "cell_type": "markdown",
   "metadata": {
    "id": "FYEDQ7Z21ldN",
    "colab_type": "text"
   },
   "source": [
    "**Prepare Dataloaders**"
   ]
  },
  {
   "cell_type": "code",
   "metadata": {
    "id": "VriRw8SI1nle",
    "colab_type": "code",
    "colab": {}
   },
   "source": [
    "# Dataloaders iterate over pytorch datasets and transparently provide useful functions (e.g. parallelization and shuffling)\n",
    "train_dataloader = DataLoader(train_dataset, batch_size=BATCH_SIZE, shuffle=True, num_workers=4, drop_last=True)\n",
    "validation_dataloader = DataLoader(validation_dataset,batch_size=BATCH_SIZE,shuffle=False,num_workers=4)\n",
    "test_dataloader = DataLoader(test_dataset, batch_size=BATCH_SIZE, shuffle=False, num_workers=4)"
   ],
   "execution_count": 0,
   "outputs": []
  },
  {
   "cell_type": "markdown",
   "metadata": {
    "id": "gbZ1t5Qs2z4j",
    "colab_type": "text"
   },
   "source": [
    "**Prepare Network**"
   ]
  },
  {
   "cell_type": "code",
   "metadata": {
    "id": "exHUjtXa22DN",
    "colab_type": "code",
    "colab": {}
   },
   "source": [
    "#net = alexnet() \n",
    "net = alexnet(pretrained=True) # Loading AlexNet model\n",
    "#net =  vgg11(pretrained = True)\n",
    "#net = resnet18(pretrained = True)\n",
    "\n",
    "\n",
    "# AlexNet has 1000 output neurons, corresponding to the 1000 ImageNet's classes\n",
    "# We need 101 outputs for Caltech-101\n",
    "net.classifier[6] = nn.Linear(4096, NUM_CLASSES) # nn.Linear in pytorch is a fully connected layer\n",
    "                                                 # The convolutional layer is nn.Conv2d\n",
    "#net.fc = nn.Linear(512 * torchvision.models.resnet.BasicBlock.expansion,NUM_CLASSES)     #change num_classes for resnet                                        \n",
    "\n",
    "\n",
    "# We just changed the last layer of AlexNet with a new fully connected layer with 101 outputs\n",
    "# It is mandatory to study torchvision.models.alexnet source code"
   ],
   "execution_count": 0,
   "outputs": []
  },
  {
   "cell_type": "markdown",
   "metadata": {
    "id": "KEyL3H_R4qCf",
    "colab_type": "text"
   },
   "source": [
    "**Prepare Training**"
   ]
  },
  {
   "cell_type": "code",
   "metadata": {
    "id": "9sjq00G94tSc",
    "colab_type": "code",
    "colab": {}
   },
   "source": [
    "# Define loss function\n",
    "criterion = nn.CrossEntropyLoss() # for classification, we use Cross Entropy\n",
    "\n",
    "# Choose parameters to optimize\n",
    "# To access a different set of parameters, you have to access submodules of AlexNet\n",
    "# (nn.Module objects, like AlexNet, implement the Composite Pattern)\n",
    "# e.g.: parameters of the fully connected layers: net.classifier.parameters()\n",
    "# e.g.: parameters of the convolutional layers: look at alexnet's source code ;) \n",
    "\n",
    "parameters_to_optimize = net.parameters() # In this case we optimize over all the parameters of AlexNet\n",
    "#parameters_to_optimize = net.classifier.parameters()#freeze conv layer\n",
    "#parameters_to_optimize = net.features.parameters()#freeze fully layer \n",
    "\n",
    "# Define optimizer\n",
    "# An optimizer updates the weights based on loss\n",
    "# We use SGD with momentum\n",
    "optimizer = optim.SGD(parameters_to_optimize, lr=LR, momentum=MOMENTUM, weight_decay=WEIGHT_DECAY)\n",
    "\n",
    "# Define scheduler\n",
    "# A scheduler dynamically changes learning rate\n",
    "# The most common schedule is the step(-down), which multiplies learning rate by gamma every STEP_SIZE epochs\n",
    "scheduler = optim.lr_scheduler.StepLR(optimizer, step_size=STEP_SIZE, gamma=GAMMA)"
   ],
   "execution_count": 0,
   "outputs": []
  },
  {
   "cell_type": "markdown",
   "metadata": {
    "id": "AxYUli9d9uYQ",
    "colab_type": "text"
   },
   "source": [
    "**Train**"
   ]
  },
  {
   "cell_type": "code",
   "metadata": {
    "id": "ZcoQ5fD49yT_",
    "colab_type": "code",
    "outputId": "68ad5c02-542d-448a-e3d2-64207b4f68bc",
    "colab": {
     "base_uri": "https://localhost:8080/",
     "height": 1000
    }
   },
   "source": [
    "# By default, everything is loaded to cpu\n",
    "net = net.to(DEVICE) # this will bring the network to GPU if DEVICE is cuda\n",
    "bestNet = net\n",
    "maxAccuracy = 0\n",
    "losses = []\n",
    "accuracies = []\n",
    "train_accuracies = []\n",
    "\n",
    "\n",
    "cudnn.benchmark # Calling this optimizes runtime\n",
    "\n",
    "current_step = 0\n",
    "# Start iterating over the epochs\n",
    "\n",
    "\n",
    "for epoch in range(NUM_EPOCHS):\n",
    "  print('Starting epoch {}/{}, LR = {}'.format(epoch+1, NUM_EPOCHS, scheduler.get_lr()))\n",
    "\n",
    "  # Iterate over the dataset\n",
    "  for images, labels in train_dataloader:\n",
    "    # Bring data over the device of choice\n",
    "    \n",
    "    images = images.to(DEVICE)\n",
    "    labels = labels.to(DEVICE)\n",
    "\n",
    "    net.train() # Sets module in training mode\n",
    "\n",
    "    # PyTorch, by default, accumulates gradients after each backward pass\n",
    "    # We need to manually set the gradients to zero before starting a new iteration\n",
    "    optimizer.zero_grad() # Zero-ing the gradients\n",
    "\n",
    "    \n",
    "\n",
    "    # Forward pass to the network\n",
    "    outputs = net(images)\n",
    "\n",
    "    # Compute loss based on output and ground truth\n",
    "    loss = criterion(outputs, labels)\n",
    "    \n",
    "\n",
    "\n",
    "    # Log loss\n",
    "    if current_step % LOG_FREQUENCY == 0:\n",
    "      print('Step {}, Loss {}'.format(current_step, loss.item()))\n",
    "\n",
    "    # Compute gradients for each layer and update weights\n",
    "    loss.backward()  # backward pass: computes gradients\n",
    "    optimizer.step() # update weights based on accumulated gradients\n",
    "\n",
    "    current_step += 1\n",
    "  \n",
    "\n",
    "\n",
    "  #validation phase\n",
    "  net.train(False)\n",
    "  running_corrects = 0\n",
    "  for images, labels in tqdm(validation_dataloader):\n",
    "    images = images.to(DEVICE)\n",
    "    labels = labels.to(DEVICE)\n",
    "\n",
    "    outputs = net(images)\n",
    "    _, preds = torch.max(outputs.data, 1)\n",
    "\n",
    "    running_corrects += torch.sum(preds == labels.data).data.item()\n",
    "  \n",
    "  accuracy = running_corrects / float(len(validation_dataset))\n",
    "  if(maxAccuracy < accuracy):\n",
    "    \n",
    "    maxAccuracy = accuracy\n",
    "    bestNet = net\n",
    "    print('Best accuracy {}\\n'.format(maxAccuracy))\n",
    "  else:\n",
    "    print('accuracy {}\\n'.format(accuracy))\n",
    "  \n",
    "  #train accuracy\n",
    "  running_corrects = 0\n",
    "  for images, labels in tqdm(train_dataloader):\n",
    "    images = images.to(DEVICE)\n",
    "    labels = labels.to(DEVICE)\n",
    "\n",
    "    outputs = net(images)\n",
    "    _, preds = torch.max(outputs.data, 1)\n",
    "\n",
    "    running_corrects += torch.sum(preds == labels.data).data.item()\n",
    "  \n",
    "  train_accuracy = running_corrects / float(len(train_dataset))\n",
    "\n",
    "  train_accuracies.append(train_accuracy)\n",
    "  accuracies.append(accuracy)\n",
    "  losses.append(loss.item())\n",
    "\n",
    "\n",
    "  # Step the scheduler\n",
    "  scheduler.step() \n",
    "\n",
    "\n",
    "print(\"Loss = {}\".format(losses))\n",
    "print(\"Validation_accuracy = {} \".format(accuracies))\n",
    "print(\"Train accuracy = {} \".format(train_accuracies))\n"
   ],
   "execution_count": 51,
   "outputs": [
    {
     "output_type": "stream",
     "text": [
      "Starting epoch 1/30, LR = [0.01]\n",
      "Step 0, Loss 4.866646766662598\n"
     ],
     "name": "stdout"
    },
    {
     "output_type": "stream",
     "text": [
      "\n",
      "  0%|          | 0/12 [00:00<?, ?it/s]\u001b[A"
     ],
     "name": "stderr"
    },
    {
     "output_type": "stream",
     "text": [
      "Step 10, Loss 1.7154978513717651\n"
     ],
     "name": "stdout"
    },
    {
     "output_type": "stream",
     "text": [
      "\n",
      "  8%|▊         | 1/12 [00:04<00:46,  4.26s/it]\u001b[A\n",
      " 17%|█▋        | 2/12 [00:04<00:30,  3.05s/it]\u001b[A\n",
      " 25%|██▌       | 3/12 [00:04<00:19,  2.19s/it]\u001b[A\n",
      " 33%|███▎      | 4/12 [00:04<00:12,  1.59s/it]\u001b[A\n",
      " 42%|████▏     | 5/12 [00:08<00:15,  2.19s/it]\u001b[A\n",
      " 50%|█████     | 6/12 [00:08<00:09,  1.58s/it]\u001b[A\n",
      " 58%|█████▊    | 7/12 [00:08<00:05,  1.16s/it]\u001b[A\n",
      " 67%|██████▋   | 8/12 [00:08<00:03,  1.16it/s]\u001b[A\n",
      " 75%|███████▌  | 9/12 [00:10<00:02,  1.03it/s]\u001b[A\n",
      " 92%|█████████▏| 11/12 [00:10<00:00,  1.41it/s]\u001b[A\n",
      "100%|██████████| 12/12 [00:10<00:00,  1.14it/s]\u001b[A\n",
      "  0%|          | 0/11 [00:00<?, ?it/s]\u001b[A"
     ],
     "name": "stderr"
    },
    {
     "output_type": "stream",
     "text": [
      "Best accuracy 0.6532921810699589\n",
      "\n"
     ],
     "name": "stdout"
    },
    {
     "output_type": "stream",
     "text": [
      "\n",
      "  9%|▉         | 1/11 [00:03<00:39,  3.98s/it]\u001b[A\n",
      " 18%|█▊        | 2/11 [00:04<00:25,  2.86s/it]\u001b[A\n",
      " 27%|██▋       | 3/11 [00:04<00:16,  2.07s/it]\u001b[A\n",
      " 36%|███▋      | 4/11 [00:04<00:10,  1.52s/it]\u001b[A\n",
      " 45%|████▌     | 5/11 [00:07<00:11,  1.85s/it]\u001b[A\n",
      " 55%|█████▍    | 6/11 [00:07<00:06,  1.37s/it]\u001b[A\n",
      " 64%|██████▎   | 7/11 [00:07<00:04,  1.01s/it]\u001b[A\n",
      " 73%|███████▎  | 8/11 [00:07<00:02,  1.30it/s]\u001b[A\n",
      " 82%|████████▏ | 9/11 [00:09<00:02,  1.11s/it]\u001b[A\n",
      "100%|██████████| 11/11 [00:10<00:00,  1.25it/s]\u001b[A\n",
      "\u001b[A"
     ],
     "name": "stderr"
    },
    {
     "output_type": "stream",
     "text": [
      "Starting epoch 2/30, LR = [0.01]\n",
      "Step 20, Loss 0.6231852173805237\n"
     ],
     "name": "stdout"
    },
    {
     "output_type": "stream",
     "text": [
      "\n",
      "  0%|          | 0/12 [00:00<?, ?it/s]\u001b[A\n",
      "  8%|▊         | 1/12 [00:04<00:52,  4.81s/it]\u001b[A\n",
      " 17%|█▋        | 2/12 [00:05<00:34,  3.44s/it]\u001b[A\n",
      " 25%|██▌       | 3/12 [00:05<00:22,  2.48s/it]\u001b[A\n",
      " 33%|███▎      | 4/12 [00:05<00:14,  1.80s/it]\u001b[A\n",
      " 42%|████▏     | 5/12 [00:09<00:16,  2.33s/it]\u001b[A\n",
      " 50%|█████     | 6/12 [00:09<00:10,  1.69s/it]\u001b[A\n",
      " 58%|█████▊    | 7/12 [00:09<00:06,  1.23s/it]\u001b[A\n",
      " 67%|██████▋   | 8/12 [00:09<00:03,  1.09it/s]\u001b[A\n",
      " 75%|███████▌  | 9/12 [00:10<00:02,  1.05it/s]\u001b[A\n",
      " 92%|█████████▏| 11/12 [00:10<00:00,  1.44it/s]\u001b[A\n",
      "100%|██████████| 12/12 [00:10<00:00,  1.09it/s]\u001b[A\n",
      "  0%|          | 0/11 [00:00<?, ?it/s]\u001b[A"
     ],
     "name": "stderr"
    },
    {
     "output_type": "stream",
     "text": [
      "Best accuracy 0.8103566529492455\n",
      "\n"
     ],
     "name": "stdout"
    },
    {
     "output_type": "stream",
     "text": [
      "\n",
      "  9%|▉         | 1/11 [00:03<00:39,  3.94s/it]\u001b[A\n",
      " 18%|█▊        | 2/11 [00:04<00:25,  2.83s/it]\u001b[A\n",
      " 27%|██▋       | 3/11 [00:04<00:16,  2.04s/it]\u001b[A\n",
      " 36%|███▋      | 4/11 [00:04<00:10,  1.50s/it]\u001b[A\n",
      " 45%|████▌     | 5/11 [00:07<00:11,  1.93s/it]\u001b[A\n",
      " 55%|█████▍    | 6/11 [00:07<00:07,  1.44s/it]\u001b[A\n",
      " 64%|██████▎   | 7/11 [00:08<00:04,  1.07s/it]\u001b[A\n",
      " 73%|███████▎  | 8/11 [00:08<00:02,  1.25it/s]\u001b[A\n",
      " 82%|████████▏ | 9/11 [00:09<00:02,  1.06s/it]\u001b[A\n",
      " 91%|█████████ | 10/11 [00:10<00:00,  1.21it/s]\u001b[A\n",
      "100%|██████████| 11/11 [00:10<00:00,  1.06it/s]\u001b[A"
     ],
     "name": "stderr"
    },
    {
     "output_type": "stream",
     "text": [
      "Starting epoch 3/30, LR = [0.01]\n",
      "Step 30, Loss 0.3404132127761841\n"
     ],
     "name": "stdout"
    },
    {
     "output_type": "stream",
     "text": [
      "\n",
      "  0%|          | 0/12 [00:00<?, ?it/s]\u001b[A\n",
      "  8%|▊         | 1/12 [00:04<00:48,  4.43s/it]\u001b[A\n",
      " 17%|█▋        | 2/12 [00:04<00:31,  3.17s/it]\u001b[A\n",
      " 25%|██▌       | 3/12 [00:04<00:20,  2.29s/it]\u001b[A\n",
      " 33%|███▎      | 4/12 [00:05<00:13,  1.68s/it]\u001b[A\n",
      " 42%|████▏     | 5/12 [00:08<00:15,  2.19s/it]\u001b[A\n",
      " 50%|█████     | 6/12 [00:08<00:09,  1.57s/it]\u001b[A\n",
      " 58%|█████▊    | 7/12 [00:08<00:05,  1.15s/it]\u001b[A\n",
      " 67%|██████▋   | 8/12 [00:09<00:03,  1.17it/s]\u001b[A\n",
      " 75%|███████▌  | 9/12 [00:10<00:03,  1.03s/it]\u001b[A\n",
      " 92%|█████████▏| 11/12 [00:10<00:00,  1.34it/s]\u001b[A\n",
      "100%|██████████| 12/12 [00:10<00:00,  1.12it/s]\u001b[A\n",
      "  0%|          | 0/11 [00:00<?, ?it/s]\u001b[A"
     ],
     "name": "stderr"
    },
    {
     "output_type": "stream",
     "text": [
      "Best accuracy 0.8261316872427984\n",
      "\n"
     ],
     "name": "stdout"
    },
    {
     "output_type": "stream",
     "text": [
      "\n",
      "  9%|▉         | 1/11 [00:04<00:41,  4.20s/it]\u001b[A\n",
      " 18%|█▊        | 2/11 [00:04<00:27,  3.01s/it]\u001b[A\n",
      " 27%|██▋       | 3/11 [00:04<00:17,  2.18s/it]\u001b[A\n",
      " 36%|███▋      | 4/11 [00:04<00:11,  1.58s/it]\u001b[A\n",
      " 45%|████▌     | 5/11 [00:07<00:11,  1.97s/it]\u001b[A\n",
      " 55%|█████▍    | 6/11 [00:07<00:07,  1.44s/it]\u001b[A\n",
      " 64%|██████▎   | 7/11 [00:08<00:04,  1.06s/it]\u001b[A\n",
      " 73%|███████▎  | 8/11 [00:08<00:02,  1.26it/s]\u001b[A\n",
      " 82%|████████▏ | 9/11 [00:10<00:02,  1.14s/it]\u001b[A\n",
      "100%|██████████| 11/11 [00:10<00:00,  1.21it/s]\u001b[A\n",
      "\u001b[A"
     ],
     "name": "stderr"
    },
    {
     "output_type": "stream",
     "text": [
      "Starting epoch 4/30, LR = [0.01]\n",
      "Step 40, Loss 0.1603250801563263\n"
     ],
     "name": "stdout"
    },
    {
     "output_type": "stream",
     "text": [
      "\n",
      "  0%|          | 0/12 [00:00<?, ?it/s]\u001b[A\n",
      "  8%|▊         | 1/12 [00:04<00:50,  4.55s/it]\u001b[A\n",
      " 17%|█▋        | 2/12 [00:04<00:32,  3.25s/it]\u001b[A\n",
      " 25%|██▌       | 3/12 [00:05<00:21,  2.35s/it]\u001b[A\n",
      " 33%|███▎      | 4/12 [00:05<00:13,  1.72s/it]\u001b[A\n",
      " 42%|████▏     | 5/12 [00:09<00:16,  2.40s/it]\u001b[A\n",
      " 50%|█████     | 6/12 [00:09<00:10,  1.73s/it]\u001b[A\n",
      " 58%|█████▊    | 7/12 [00:09<00:06,  1.26s/it]\u001b[A\n",
      " 67%|██████▋   | 8/12 [00:09<00:03,  1.06it/s]\u001b[A\n",
      " 75%|███████▌  | 9/12 [00:10<00:02,  1.07it/s]\u001b[A\n",
      " 92%|█████████▏| 11/12 [00:10<00:00,  1.47it/s]\u001b[A\n",
      "100%|██████████| 12/12 [00:11<00:00,  1.09it/s]\u001b[A\n",
      "  0%|          | 0/11 [00:00<?, ?it/s]\u001b[A"
     ],
     "name": "stderr"
    },
    {
     "output_type": "stream",
     "text": [
      "Best accuracy 0.8401920438957476\n",
      "\n"
     ],
     "name": "stdout"
    },
    {
     "output_type": "stream",
     "text": [
      "\n",
      "  9%|▉         | 1/11 [00:04<00:41,  4.12s/it]\u001b[A\n",
      " 18%|█▊        | 2/11 [00:04<00:26,  2.95s/it]\u001b[A\n",
      " 27%|██▋       | 3/11 [00:04<00:17,  2.13s/it]\u001b[A\n",
      " 36%|███▋      | 4/11 [00:04<00:10,  1.56s/it]\u001b[A\n",
      " 45%|████▌     | 5/11 [00:07<00:11,  1.97s/it]\u001b[A\n",
      " 55%|█████▍    | 6/11 [00:07<00:07,  1.43s/it]\u001b[A\n",
      " 64%|██████▎   | 7/11 [00:08<00:04,  1.06s/it]\u001b[A\n",
      " 73%|███████▎  | 8/11 [00:08<00:02,  1.26it/s]\u001b[A\n",
      " 82%|████████▏ | 9/11 [00:10<00:02,  1.11s/it]\u001b[A\n",
      "100%|██████████| 11/11 [00:10<00:00,  1.24it/s]\u001b[A\n",
      "\u001b[A"
     ],
     "name": "stderr"
    },
    {
     "output_type": "stream",
     "text": [
      "Starting epoch 5/30, LR = [0.01]\n",
      "Step 50, Loss 0.1260709911584854\n"
     ],
     "name": "stdout"
    },
    {
     "output_type": "stream",
     "text": [
      "\n",
      "  0%|          | 0/12 [00:00<?, ?it/s]\u001b[A\n",
      "  8%|▊         | 1/12 [00:04<00:51,  4.69s/it]\u001b[A\n",
      " 17%|█▋        | 2/12 [00:04<00:33,  3.35s/it]\u001b[A\n",
      " 25%|██▌       | 3/12 [00:05<00:21,  2.41s/it]\u001b[A\n",
      " 33%|███▎      | 4/12 [00:05<00:13,  1.75s/it]\u001b[A\n",
      " 42%|████▏     | 5/12 [00:08<00:16,  2.29s/it]\u001b[A\n",
      " 50%|█████     | 6/12 [00:09<00:09,  1.65s/it]\u001b[A\n",
      " 58%|█████▊    | 7/12 [00:09<00:06,  1.21s/it]\u001b[A\n",
      " 67%|██████▋   | 8/12 [00:09<00:03,  1.11it/s]\u001b[A\n",
      " 75%|███████▌  | 9/12 [00:10<00:02,  1.07it/s]\u001b[A\n",
      " 92%|█████████▏| 11/12 [00:10<00:00,  1.47it/s]\u001b[A\n",
      "100%|██████████| 12/12 [00:10<00:00,  1.12it/s]\u001b[A\n",
      "  0%|          | 0/11 [00:00<?, ?it/s]\u001b[A"
     ],
     "name": "stderr"
    },
    {
     "output_type": "stream",
     "text": [
      "Best accuracy 0.8453360768175583\n",
      "\n"
     ],
     "name": "stdout"
    },
    {
     "output_type": "stream",
     "text": [
      "\n",
      "  9%|▉         | 1/11 [00:04<00:40,  4.09s/it]\u001b[A\n",
      " 18%|█▊        | 2/11 [00:04<00:26,  2.91s/it]\u001b[A\n",
      " 27%|██▋       | 3/11 [00:04<00:16,  2.11s/it]\u001b[A\n",
      " 36%|███▋      | 4/11 [00:04<00:10,  1.55s/it]\u001b[A\n",
      " 45%|████▌     | 5/11 [00:07<00:12,  2.01s/it]\u001b[A\n",
      " 55%|█████▍    | 6/11 [00:07<00:07,  1.46s/it]\u001b[A\n",
      " 64%|██████▎   | 7/11 [00:08<00:04,  1.07s/it]\u001b[A\n",
      " 73%|███████▎  | 8/11 [00:08<00:02,  1.24it/s]\u001b[A\n",
      " 82%|████████▏ | 9/11 [00:10<00:02,  1.13s/it]\u001b[A\n",
      "100%|██████████| 11/11 [00:10<00:00,  1.23it/s]\u001b[A\n",
      "\u001b[A"
     ],
     "name": "stderr"
    },
    {
     "output_type": "stream",
     "text": [
      "Starting epoch 6/30, LR = [0.01]\n",
      "Step 60, Loss 0.06620554625988007\n"
     ],
     "name": "stdout"
    },
    {
     "output_type": "stream",
     "text": [
      "\n",
      "  0%|          | 0/12 [00:00<?, ?it/s]\u001b[A\n",
      "  8%|▊         | 1/12 [00:04<00:51,  4.68s/it]\u001b[A\n",
      " 17%|█▋        | 2/12 [00:04<00:33,  3.33s/it]\u001b[A\n",
      " 25%|██▌       | 3/12 [00:05<00:21,  2.40s/it]\u001b[A\n",
      " 33%|███▎      | 4/12 [00:05<00:13,  1.74s/it]\u001b[A\n",
      " 42%|████▏     | 5/12 [00:08<00:16,  2.33s/it]\u001b[A\n",
      " 50%|█████     | 6/12 [00:09<00:10,  1.68s/it]\u001b[A\n",
      " 58%|█████▊    | 7/12 [00:09<00:06,  1.23s/it]\u001b[A\n",
      " 67%|██████▋   | 8/12 [00:09<00:03,  1.09it/s]\u001b[A\n",
      " 75%|███████▌  | 9/12 [00:10<00:02,  1.02it/s]\u001b[A\n",
      " 92%|█████████▏| 11/12 [00:10<00:00,  1.40it/s]\u001b[A\n",
      "100%|██████████| 12/12 [00:10<00:00,  1.09it/s]\u001b[A\n",
      "  0%|          | 0/11 [00:00<?, ?it/s]\u001b[A"
     ],
     "name": "stderr"
    },
    {
     "output_type": "stream",
     "text": [
      "accuracy 0.8446502057613169\n",
      "\n"
     ],
     "name": "stdout"
    },
    {
     "output_type": "stream",
     "text": [
      "\n",
      "  9%|▉         | 1/11 [00:04<00:40,  4.05s/it]\u001b[A\n",
      " 18%|█▊        | 2/11 [00:04<00:26,  2.91s/it]\u001b[A\n",
      " 27%|██▋       | 3/11 [00:04<00:16,  2.11s/it]\u001b[A\n",
      " 36%|███▋      | 4/11 [00:04<00:10,  1.55s/it]\u001b[A\n",
      " 45%|████▌     | 5/11 [00:07<00:11,  1.98s/it]\u001b[A\n",
      " 55%|█████▍    | 6/11 [00:07<00:07,  1.44s/it]\u001b[A\n",
      " 64%|██████▎   | 7/11 [00:08<00:04,  1.06s/it]\u001b[A\n",
      " 73%|███████▎  | 8/11 [00:08<00:02,  1.26it/s]\u001b[A\n",
      " 82%|████████▏ | 9/11 [00:10<00:02,  1.18s/it]\u001b[A\n",
      "100%|██████████| 11/11 [00:10<00:00,  1.17it/s]\u001b[A\n",
      "\u001b[A"
     ],
     "name": "stderr"
    },
    {
     "output_type": "stream",
     "text": [
      "Starting epoch 7/30, LR = [0.01]\n",
      "Step 70, Loss 0.05574095994234085\n"
     ],
     "name": "stdout"
    },
    {
     "output_type": "stream",
     "text": [
      "\n",
      "  0%|          | 0/12 [00:00<?, ?it/s]\u001b[A\n",
      "  8%|▊         | 1/12 [00:04<00:52,  4.76s/it]\u001b[A\n",
      " 17%|█▋        | 2/12 [00:04<00:33,  3.39s/it]\u001b[A\n",
      " 25%|██▌       | 3/12 [00:05<00:21,  2.43s/it]\u001b[A\n",
      " 33%|███▎      | 4/12 [00:05<00:14,  1.77s/it]\u001b[A\n",
      " 42%|████▏     | 5/12 [00:09<00:16,  2.42s/it]\u001b[A\n",
      " 50%|█████     | 6/12 [00:09<00:10,  1.75s/it]\u001b[A\n",
      " 58%|█████▊    | 7/12 [00:09<00:06,  1.27s/it]\u001b[A\n",
      " 67%|██████▋   | 8/12 [00:09<00:03,  1.08it/s]\u001b[A\n",
      " 75%|███████▌  | 9/12 [00:10<00:02,  1.13it/s]\u001b[A\n",
      " 92%|█████████▏| 11/12 [00:10<00:00,  1.55it/s]\u001b[A\n",
      "100%|██████████| 12/12 [00:10<00:00,  1.10it/s]\u001b[A\n",
      "  0%|          | 0/11 [00:00<?, ?it/s]\u001b[A"
     ],
     "name": "stderr"
    },
    {
     "output_type": "stream",
     "text": [
      "Best accuracy 0.845679012345679\n",
      "\n"
     ],
     "name": "stdout"
    },
    {
     "output_type": "stream",
     "text": [
      "\n",
      "  9%|▉         | 1/11 [00:03<00:39,  3.98s/it]\u001b[A\n",
      " 18%|█▊        | 2/11 [00:04<00:25,  2.84s/it]\u001b[A\n",
      " 27%|██▋       | 3/11 [00:04<00:16,  2.06s/it]\u001b[A\n",
      " 36%|███▋      | 4/11 [00:04<00:10,  1.51s/it]\u001b[A\n",
      " 45%|████▌     | 5/11 [00:07<00:11,  1.96s/it]\u001b[A\n",
      " 55%|█████▍    | 6/11 [00:07<00:07,  1.43s/it]\u001b[A\n",
      " 64%|██████▎   | 7/11 [00:08<00:04,  1.05s/it]\u001b[A\n",
      " 73%|███████▎  | 8/11 [00:08<00:02,  1.26it/s]\u001b[A\n",
      " 82%|████████▏ | 9/11 [00:10<00:02,  1.17s/it]\u001b[A\n",
      "100%|██████████| 11/11 [00:10<00:00,  1.18it/s]\u001b[A\n",
      "\u001b[A"
     ],
     "name": "stderr"
    },
    {
     "output_type": "stream",
     "text": [
      "Starting epoch 8/30, LR = [0.01]\n",
      "Step 80, Loss 0.02418368309736252\n"
     ],
     "name": "stdout"
    },
    {
     "output_type": "stream",
     "text": [
      "\n",
      "  0%|          | 0/12 [00:00<?, ?it/s]\u001b[A\n",
      "  8%|▊         | 1/12 [00:04<00:53,  4.84s/it]\u001b[A\n",
      " 17%|█▋        | 2/12 [00:05<00:34,  3.46s/it]\u001b[A\n",
      " 25%|██▌       | 3/12 [00:05<00:22,  2.49s/it]\u001b[A\n",
      " 33%|███▎      | 4/12 [00:05<00:14,  1.81s/it]\u001b[A\n",
      " 42%|████▏     | 5/12 [00:09<00:16,  2.41s/it]\u001b[A\n",
      " 50%|█████     | 6/12 [00:09<00:10,  1.74s/it]\u001b[A\n",
      " 58%|█████▊    | 7/12 [00:09<00:06,  1.27s/it]\u001b[A\n",
      " 67%|██████▋   | 8/12 [00:09<00:03,  1.08it/s]\u001b[A\n",
      " 75%|███████▌  | 9/12 [00:10<00:02,  1.03it/s]\u001b[A\n",
      " 92%|█████████▏| 11/12 [00:11<00:00,  1.42it/s]\u001b[A\n",
      "100%|██████████| 12/12 [00:11<00:00,  1.07it/s]\u001b[A\n",
      "  0%|          | 0/11 [00:00<?, ?it/s]\u001b[A"
     ],
     "name": "stderr"
    },
    {
     "output_type": "stream",
     "text": [
      "accuracy 0.840877914951989\n",
      "\n"
     ],
     "name": "stdout"
    },
    {
     "output_type": "stream",
     "text": [
      "\n",
      "  9%|▉         | 1/11 [00:04<00:41,  4.16s/it]\u001b[A\n",
      " 18%|█▊        | 2/11 [00:04<00:26,  2.98s/it]\u001b[A\n",
      " 27%|██▋       | 3/11 [00:04<00:17,  2.16s/it]\u001b[A\n",
      " 36%|███▋      | 4/11 [00:04<00:11,  1.59s/it]\u001b[A\n",
      " 45%|████▌     | 5/11 [00:07<00:11,  1.91s/it]\u001b[A\n",
      " 55%|█████▍    | 6/11 [00:07<00:07,  1.40s/it]\u001b[A\n",
      " 64%|██████▎   | 7/11 [00:07<00:04,  1.04s/it]\u001b[A\n",
      " 73%|███████▎  | 8/11 [00:08<00:02,  1.28it/s]\u001b[A\n",
      " 82%|████████▏ | 9/11 [00:10<00:02,  1.13s/it]\u001b[A\n",
      " 91%|█████████ | 10/11 [00:10<00:00,  1.21it/s]\u001b[A\n",
      "100%|██████████| 11/11 [00:10<00:00,  1.58it/s]\u001b[A\n",
      "\u001b[A"
     ],
     "name": "stderr"
    },
    {
     "output_type": "stream",
     "text": [
      "Starting epoch 9/30, LR = [0.01]\n",
      "Step 90, Loss 0.02551000751554966\n"
     ],
     "name": "stdout"
    },
    {
     "output_type": "stream",
     "text": [
      "\n",
      "  0%|          | 0/12 [00:00<?, ?it/s]\u001b[A\n",
      "  8%|▊         | 1/12 [00:04<00:52,  4.74s/it]\u001b[A\n",
      " 17%|█▋        | 2/12 [00:04<00:33,  3.38s/it]\u001b[A\n",
      " 25%|██▌       | 3/12 [00:05<00:21,  2.42s/it]\u001b[A\n",
      " 33%|███▎      | 4/12 [00:05<00:14,  1.76s/it]\u001b[A\n",
      " 42%|████▏     | 5/12 [00:09<00:16,  2.35s/it]\u001b[A\n",
      " 50%|█████     | 6/12 [00:09<00:10,  1.70s/it]\u001b[A\n",
      " 58%|█████▊    | 7/12 [00:09<00:06,  1.25s/it]\u001b[A\n",
      " 67%|██████▋   | 8/12 [00:09<00:03,  1.08it/s]\u001b[A\n",
      " 75%|███████▌  | 9/12 [00:10<00:02,  1.04it/s]\u001b[A\n",
      " 83%|████████▎ | 10/12 [00:10<00:01,  1.42it/s]\u001b[A\n",
      "100%|██████████| 12/12 [00:10<00:00,  1.95it/s]\u001b[A\n",
      "\u001b[A\n",
      "  0%|          | 0/11 [00:00<?, ?it/s]\u001b[A"
     ],
     "name": "stderr"
    },
    {
     "output_type": "stream",
     "text": [
      "accuracy 0.8412208504801097\n",
      "\n"
     ],
     "name": "stdout"
    },
    {
     "output_type": "stream",
     "text": [
      "\n",
      "  9%|▉         | 1/11 [00:03<00:39,  3.98s/it]\u001b[A\n",
      " 18%|█▊        | 2/11 [00:04<00:25,  2.86s/it]\u001b[A\n",
      " 27%|██▋       | 3/11 [00:04<00:16,  2.07s/it]\u001b[A\n",
      " 36%|███▋      | 4/11 [00:04<00:10,  1.52s/it]\u001b[A\n",
      " 45%|████▌     | 5/11 [00:07<00:11,  1.97s/it]\u001b[A\n",
      " 55%|█████▍    | 6/11 [00:07<00:07,  1.43s/it]\u001b[A\n",
      " 64%|██████▎   | 7/11 [00:08<00:04,  1.05s/it]\u001b[A\n",
      " 73%|███████▎  | 8/11 [00:08<00:02,  1.27it/s]\u001b[A\n",
      " 82%|████████▏ | 9/11 [00:10<00:02,  1.17s/it]\u001b[A\n",
      "100%|██████████| 11/11 [00:10<00:00,  1.18it/s]\u001b[A\n",
      "\u001b[A"
     ],
     "name": "stderr"
    },
    {
     "output_type": "stream",
     "text": [
      "Starting epoch 10/30, LR = [0.01]\n",
      "Step 100, Loss 0.02783270925283432\n"
     ],
     "name": "stdout"
    },
    {
     "output_type": "stream",
     "text": [
      "\n",
      "  0%|          | 0/12 [00:00<?, ?it/s]\u001b[A\n",
      "  8%|▊         | 1/12 [00:04<00:49,  4.53s/it]\u001b[A\n",
      " 17%|█▋        | 2/12 [00:04<00:32,  3.22s/it]\u001b[A\n",
      " 25%|██▌       | 3/12 [00:04<00:20,  2.31s/it]\u001b[A\n",
      " 33%|███▎      | 4/12 [00:05<00:13,  1.67s/it]\u001b[A\n",
      " 42%|████▏     | 5/12 [00:09<00:16,  2.36s/it]\u001b[A\n",
      " 50%|█████     | 6/12 [00:09<00:10,  1.71s/it]\u001b[A\n",
      " 58%|█████▊    | 7/12 [00:09<00:06,  1.25s/it]\u001b[A\n",
      " 67%|██████▋   | 8/12 [00:09<00:03,  1.08it/s]\u001b[A\n",
      " 75%|███████▌  | 9/12 [00:10<00:02,  1.04it/s]\u001b[A\n",
      " 92%|█████████▏| 11/12 [00:10<00:00,  1.43it/s]\u001b[A\n",
      "100%|██████████| 12/12 [00:10<00:00,  1.10it/s]\u001b[A\n",
      "  0%|          | 0/11 [00:00<?, ?it/s]\u001b[A"
     ],
     "name": "stderr"
    },
    {
     "output_type": "stream",
     "text": [
      "Best accuracy 0.848079561042524\n",
      "\n"
     ],
     "name": "stdout"
    },
    {
     "output_type": "stream",
     "text": [
      "\n",
      "  9%|▉         | 1/11 [00:04<00:40,  4.04s/it]\u001b[A\n",
      " 18%|█▊        | 2/11 [00:04<00:26,  2.89s/it]\u001b[A\n",
      " 27%|██▋       | 3/11 [00:04<00:16,  2.09s/it]\u001b[A\n",
      " 36%|███▋      | 4/11 [00:04<00:10,  1.52s/it]\u001b[A\n",
      " 45%|████▌     | 5/11 [00:07<00:11,  1.91s/it]\u001b[A\n",
      " 55%|█████▍    | 6/11 [00:07<00:07,  1.41s/it]\u001b[A\n",
      " 64%|██████▎   | 7/11 [00:07<00:04,  1.04s/it]\u001b[A\n",
      " 73%|███████▎  | 8/11 [00:08<00:02,  1.28it/s]\u001b[A\n",
      " 82%|████████▏ | 9/11 [00:10<00:02,  1.20s/it]\u001b[A\n",
      "100%|██████████| 11/11 [00:10<00:00,  1.15it/s]\u001b[A\n",
      "\u001b[A"
     ],
     "name": "stderr"
    },
    {
     "output_type": "stream",
     "text": [
      "Starting epoch 11/30, LR = [0.01]\n",
      "Step 110, Loss 0.025963682681322098\n"
     ],
     "name": "stdout"
    },
    {
     "output_type": "stream",
     "text": [
      "\n",
      "  0%|          | 0/12 [00:00<?, ?it/s]\u001b[A"
     ],
     "name": "stderr"
    },
    {
     "output_type": "stream",
     "text": [
      "Step 120, Loss 0.027139194309711456\n"
     ],
     "name": "stdout"
    },
    {
     "output_type": "stream",
     "text": [
      "\n",
      "  8%|▊         | 1/12 [00:04<00:49,  4.46s/it]\u001b[A\n",
      " 17%|█▋        | 2/12 [00:04<00:31,  3.19s/it]\u001b[A\n",
      " 25%|██▌       | 3/12 [00:04<00:20,  2.30s/it]\u001b[A\n",
      " 33%|███▎      | 4/12 [00:05<00:13,  1.66s/it]\u001b[A\n",
      " 42%|████▏     | 5/12 [00:08<00:16,  2.31s/it]\u001b[A\n",
      " 50%|█████     | 6/12 [00:09<00:09,  1.67s/it]\u001b[A\n",
      " 58%|█████▊    | 7/12 [00:09<00:06,  1.22s/it]\u001b[A\n",
      " 67%|██████▋   | 8/12 [00:09<00:03,  1.10it/s]\u001b[A\n",
      " 75%|███████▌  | 9/12 [00:10<00:02,  1.00it/s]\u001b[A\n",
      " 92%|█████████▏| 11/12 [00:10<00:00,  1.38it/s]\u001b[A\n",
      "100%|██████████| 12/12 [00:10<00:00,  1.09it/s]\u001b[A\n",
      "  0%|          | 0/11 [00:00<?, ?it/s]\u001b[A"
     ],
     "name": "stderr"
    },
    {
     "output_type": "stream",
     "text": [
      "accuracy 0.8477366255144033\n",
      "\n"
     ],
     "name": "stdout"
    },
    {
     "output_type": "stream",
     "text": [
      "\n",
      "  9%|▉         | 1/11 [00:03<00:39,  3.98s/it]\u001b[A\n",
      " 18%|█▊        | 2/11 [00:04<00:25,  2.84s/it]\u001b[A\n",
      " 27%|██▋       | 3/11 [00:04<00:16,  2.07s/it]\u001b[A\n",
      " 36%|███▋      | 4/11 [00:04<00:10,  1.52s/it]\u001b[A\n",
      " 45%|████▌     | 5/11 [00:07<00:11,  1.96s/it]\u001b[A\n",
      " 55%|█████▍    | 6/11 [00:07<00:07,  1.43s/it]\u001b[A\n",
      " 64%|██████▎   | 7/11 [00:08<00:04,  1.05s/it]\u001b[A\n",
      " 73%|███████▎  | 8/11 [00:08<00:02,  1.27it/s]\u001b[A\n",
      " 82%|████████▏ | 9/11 [00:10<00:02,  1.17s/it]\u001b[A\n",
      " 91%|█████████ | 10/11 [00:10<00:00,  1.18it/s]\u001b[A\n",
      "100%|██████████| 11/11 [00:10<00:00,  1.05it/s]\u001b[A"
     ],
     "name": "stderr"
    },
    {
     "output_type": "stream",
     "text": [
      "Starting epoch 12/30, LR = [0.01]\n",
      "Step 130, Loss 0.025785792618989944\n"
     ],
     "name": "stdout"
    },
    {
     "output_type": "stream",
     "text": [
      "\n",
      "  0%|          | 0/12 [00:00<?, ?it/s]\u001b[A\n",
      "  8%|▊         | 1/12 [00:04<00:48,  4.42s/it]\u001b[A\n",
      " 17%|█▋        | 2/12 [00:04<00:31,  3.17s/it]\u001b[A\n",
      " 25%|██▌       | 3/12 [00:04<00:20,  2.27s/it]\u001b[A\n",
      " 33%|███▎      | 4/12 [00:05<00:13,  1.66s/it]\u001b[A\n",
      " 42%|████▏     | 5/12 [00:09<00:17,  2.47s/it]\u001b[A\n",
      " 50%|█████     | 6/12 [00:09<00:10,  1.79s/it]\u001b[A\n",
      " 58%|█████▊    | 7/12 [00:09<00:06,  1.32s/it]\u001b[A\n",
      " 67%|██████▋   | 8/12 [00:10<00:03,  1.02it/s]\u001b[A\n",
      " 75%|███████▌  | 9/12 [00:10<00:02,  1.09it/s]\u001b[A\n",
      " 92%|█████████▏| 11/12 [00:11<00:00,  1.49it/s]\u001b[A\n",
      "100%|██████████| 12/12 [00:11<00:00,  1.07it/s]\u001b[A\n",
      "  0%|          | 0/11 [00:00<?, ?it/s]\u001b[A"
     ],
     "name": "stderr"
    },
    {
     "output_type": "stream",
     "text": [
      "accuracy 0.8463648834019204\n",
      "\n"
     ],
     "name": "stdout"
    },
    {
     "output_type": "stream",
     "text": [
      "\n",
      "  9%|▉         | 1/11 [00:04<00:40,  4.01s/it]\u001b[A\n",
      " 18%|█▊        | 2/11 [00:04<00:25,  2.87s/it]\u001b[A\n",
      " 27%|██▋       | 3/11 [00:04<00:16,  2.08s/it]\u001b[A\n",
      " 36%|███▋      | 4/11 [00:04<00:10,  1.53s/it]\u001b[A\n",
      " 45%|████▌     | 5/11 [00:07<00:11,  1.93s/it]\u001b[A\n",
      " 55%|█████▍    | 6/11 [00:07<00:07,  1.43s/it]\u001b[A\n",
      " 64%|██████▎   | 7/11 [00:08<00:04,  1.05s/it]\u001b[A\n",
      " 73%|███████▎  | 8/11 [00:08<00:02,  1.27it/s]\u001b[A\n",
      " 82%|████████▏ | 9/11 [00:10<00:02,  1.18s/it]\u001b[A\n",
      "100%|██████████| 11/11 [00:10<00:00,  1.17it/s]\u001b[A\n",
      "\u001b[A"
     ],
     "name": "stderr"
    },
    {
     "output_type": "stream",
     "text": [
      "Starting epoch 13/30, LR = [0.01]\n",
      "Step 140, Loss 0.0183846615254879\n"
     ],
     "name": "stdout"
    },
    {
     "output_type": "stream",
     "text": [
      "\n",
      "  0%|          | 0/12 [00:00<?, ?it/s]\u001b[A\n",
      "  8%|▊         | 1/12 [00:04<00:52,  4.81s/it]\u001b[A\n",
      " 17%|█▋        | 2/12 [00:05<00:34,  3.44s/it]\u001b[A\n",
      " 25%|██▌       | 3/12 [00:05<00:22,  2.46s/it]\u001b[A\n",
      " 33%|███▎      | 4/12 [00:05<00:14,  1.80s/it]\u001b[A\n",
      " 42%|████▏     | 5/12 [00:09<00:16,  2.40s/it]\u001b[A\n",
      " 50%|█████     | 6/12 [00:09<00:10,  1.74s/it]\u001b[A\n",
      " 58%|█████▊    | 7/12 [00:09<00:06,  1.27s/it]\u001b[A\n",
      " 67%|██████▋   | 8/12 [00:09<00:03,  1.05it/s]\u001b[A\n",
      " 75%|███████▌  | 9/12 [00:10<00:02,  1.02it/s]\u001b[A\n",
      " 92%|█████████▏| 11/12 [00:11<00:00,  1.40it/s]\u001b[A\n",
      "100%|██████████| 12/12 [00:11<00:00,  1.07it/s]\u001b[A\n",
      "  0%|          | 0/11 [00:00<?, ?it/s]\u001b[A"
     ],
     "name": "stderr"
    },
    {
     "output_type": "stream",
     "text": [
      "accuracy 0.8463648834019204\n",
      "\n"
     ],
     "name": "stdout"
    },
    {
     "output_type": "stream",
     "text": [
      "\n",
      "  9%|▉         | 1/11 [00:04<00:42,  4.28s/it]\u001b[A\n",
      " 18%|█▊        | 2/11 [00:04<00:27,  3.06s/it]\u001b[A\n",
      " 27%|██▋       | 3/11 [00:04<00:17,  2.20s/it]\u001b[A\n",
      " 36%|███▋      | 4/11 [00:04<00:11,  1.60s/it]\u001b[A\n",
      " 45%|████▌     | 5/11 [00:07<00:12,  2.03s/it]\u001b[A\n",
      " 55%|█████▍    | 6/11 [00:08<00:07,  1.48s/it]\u001b[A\n",
      " 64%|██████▎   | 7/11 [00:08<00:04,  1.09s/it]\u001b[A\n",
      " 73%|███████▎  | 8/11 [00:08<00:02,  1.23it/s]\u001b[A\n",
      " 82%|████████▏ | 9/11 [00:10<00:02,  1.12s/it]\u001b[A\n",
      " 91%|█████████ | 10/11 [00:10<00:00,  1.22it/s]\u001b[A\n",
      "100%|██████████| 11/11 [00:10<00:00,  1.04it/s]\u001b[A"
     ],
     "name": "stderr"
    },
    {
     "output_type": "stream",
     "text": [
      "Starting epoch 14/30, LR = [0.01]\n",
      "Step 150, Loss 0.021410446614027023\n"
     ],
     "name": "stdout"
    },
    {
     "output_type": "stream",
     "text": [
      "\n",
      "  0%|          | 0/12 [00:00<?, ?it/s]\u001b[A\n",
      "  8%|▊         | 1/12 [00:04<00:51,  4.70s/it]\u001b[A\n",
      " 17%|█▋        | 2/12 [00:04<00:33,  3.36s/it]\u001b[A\n",
      " 25%|██▌       | 3/12 [00:05<00:21,  2.41s/it]\u001b[A\n",
      " 33%|███▎      | 4/12 [00:05<00:14,  1.76s/it]\u001b[A\n",
      " 42%|████▏     | 5/12 [00:09<00:17,  2.44s/it]\u001b[A\n",
      " 50%|█████     | 6/12 [00:09<00:10,  1.76s/it]\u001b[A\n",
      " 58%|█████▊    | 7/12 [00:09<00:06,  1.28s/it]\u001b[A\n",
      " 67%|██████▋   | 8/12 [00:09<00:03,  1.06it/s]\u001b[A\n",
      " 75%|███████▌  | 9/12 [00:10<00:02,  1.07it/s]\u001b[A\n",
      " 92%|█████████▏| 11/12 [00:10<00:00,  1.46it/s]\u001b[A\n",
      "100%|██████████| 12/12 [00:11<00:00,  1.08it/s]\u001b[A\n",
      "  0%|          | 0/11 [00:00<?, ?it/s]\u001b[A"
     ],
     "name": "stderr"
    },
    {
     "output_type": "stream",
     "text": [
      "Best accuracy 0.8494513031550068\n",
      "\n"
     ],
     "name": "stdout"
    },
    {
     "output_type": "stream",
     "text": [
      "\n",
      "  9%|▉         | 1/11 [00:03<00:39,  3.95s/it]\u001b[A\n",
      " 18%|█▊        | 2/11 [00:04<00:25,  2.84s/it]\u001b[A\n",
      " 27%|██▋       | 3/11 [00:04<00:16,  2.07s/it]\u001b[A\n",
      " 36%|███▋      | 4/11 [00:04<00:10,  1.50s/it]\u001b[A\n",
      " 45%|████▌     | 5/11 [00:07<00:11,  1.86s/it]\u001b[A\n",
      " 55%|█████▍    | 6/11 [00:07<00:06,  1.36s/it]\u001b[A\n",
      " 64%|██████▎   | 7/11 [00:07<00:04,  1.08s/it]\u001b[A\n",
      " 73%|███████▎  | 8/11 [00:08<00:02,  1.24it/s]\u001b[A\n",
      " 82%|████████▏ | 9/11 [00:09<00:02,  1.05s/it]\u001b[A\n",
      " 91%|█████████ | 10/11 [00:09<00:00,  1.29it/s]\u001b[A\n",
      "100%|██████████| 11/11 [00:10<00:00,  1.57it/s]\u001b[A\n",
      "\u001b[A"
     ],
     "name": "stderr"
    },
    {
     "output_type": "stream",
     "text": [
      "Starting epoch 15/30, LR = [0.01]\n",
      "Step 160, Loss 0.0118942279368639\n"
     ],
     "name": "stdout"
    },
    {
     "output_type": "stream",
     "text": [
      "\n",
      "  0%|          | 0/12 [00:00<?, ?it/s]\u001b[A\n",
      "  8%|▊         | 1/12 [00:04<00:52,  4.79s/it]\u001b[A\n",
      " 17%|█▋        | 2/12 [00:04<00:34,  3.41s/it]\u001b[A\n",
      " 25%|██▌       | 3/12 [00:05<00:22,  2.46s/it]\u001b[A\n",
      " 33%|███▎      | 4/12 [00:05<00:14,  1.80s/it]\u001b[A\n",
      " 42%|████▏     | 5/12 [00:09<00:16,  2.42s/it]\u001b[A\n",
      " 50%|█████     | 6/12 [00:09<00:10,  1.74s/it]\u001b[A\n",
      " 58%|█████▊    | 7/12 [00:09<00:06,  1.27s/it]\u001b[A\n",
      " 67%|██████▋   | 8/12 [00:09<00:03,  1.06it/s]\u001b[A\n",
      " 75%|███████▌  | 9/12 [00:10<00:02,  1.07it/s]\u001b[A\n",
      " 92%|█████████▏| 11/12 [00:10<00:00,  1.47it/s]\u001b[A\n",
      "100%|██████████| 12/12 [00:11<00:00,  1.08it/s]\u001b[A\n",
      "  0%|          | 0/11 [00:00<?, ?it/s]\u001b[A"
     ],
     "name": "stderr"
    },
    {
     "output_type": "stream",
     "text": [
      "accuracy 0.8477366255144033\n",
      "\n"
     ],
     "name": "stdout"
    },
    {
     "output_type": "stream",
     "text": [
      "\n",
      "  9%|▉         | 1/11 [00:04<00:41,  4.13s/it]\u001b[A\n",
      " 18%|█▊        | 2/11 [00:04<00:26,  2.96s/it]\u001b[A\n",
      " 27%|██▋       | 3/11 [00:04<00:17,  2.15s/it]\u001b[A\n",
      " 36%|███▋      | 4/11 [00:04<00:10,  1.56s/it]\u001b[A\n",
      " 45%|████▌     | 5/11 [00:07<00:11,  1.99s/it]\u001b[A\n",
      " 55%|█████▍    | 6/11 [00:07<00:07,  1.44s/it]\u001b[A\n",
      " 64%|██████▎   | 7/11 [00:08<00:04,  1.06s/it]\u001b[A\n",
      " 73%|███████▎  | 8/11 [00:08<00:02,  1.26it/s]\u001b[A\n",
      " 82%|████████▏ | 9/11 [00:10<00:02,  1.12s/it]\u001b[A\n",
      "100%|██████████| 11/11 [00:10<00:00,  1.23it/s]\u001b[A\n",
      "\u001b[A"
     ],
     "name": "stderr"
    },
    {
     "output_type": "stream",
     "text": [
      "Starting epoch 16/30, LR = [0.01]\n",
      "Step 170, Loss 0.019450560212135315\n"
     ],
     "name": "stdout"
    },
    {
     "output_type": "stream",
     "text": [
      "\n",
      "  0%|          | 0/12 [00:00<?, ?it/s]\u001b[A\n",
      "  8%|▊         | 1/12 [00:04<00:53,  4.82s/it]\u001b[A\n",
      " 17%|█▋        | 2/12 [00:05<00:34,  3.45s/it]\u001b[A\n",
      " 25%|██▌       | 3/12 [00:05<00:22,  2.48s/it]\u001b[A\n",
      " 33%|███▎      | 4/12 [00:05<00:14,  1.79s/it]\u001b[A\n",
      " 42%|████▏     | 5/12 [00:09<00:17,  2.45s/it]\u001b[A\n",
      " 50%|█████     | 6/12 [00:09<00:10,  1.76s/it]\u001b[A\n",
      " 58%|█████▊    | 7/12 [00:09<00:06,  1.29s/it]\u001b[A\n",
      " 67%|██████▋   | 8/12 [00:09<00:03,  1.05it/s]\u001b[A\n",
      " 75%|███████▌  | 9/12 [00:10<00:02,  1.09it/s]\u001b[A\n",
      " 92%|█████████▏| 11/12 [00:10<00:00,  1.49it/s]\u001b[A\n",
      "100%|██████████| 12/12 [00:11<00:00,  1.08it/s]\u001b[A\n",
      "  0%|          | 0/11 [00:00<?, ?it/s]\u001b[A"
     ],
     "name": "stderr"
    },
    {
     "output_type": "stream",
     "text": [
      "accuracy 0.8460219478737997\n",
      "\n"
     ],
     "name": "stdout"
    },
    {
     "output_type": "stream",
     "text": [
      "\n",
      "  9%|▉         | 1/11 [00:03<00:38,  3.90s/it]\u001b[A\n",
      " 18%|█▊        | 2/11 [00:04<00:25,  2.80s/it]\u001b[A\n",
      " 27%|██▋       | 3/11 [00:04<00:16,  2.03s/it]\u001b[A\n",
      " 36%|███▋      | 4/11 [00:04<00:10,  1.48s/it]\u001b[A\n",
      " 45%|████▌     | 5/11 [00:07<00:11,  1.94s/it]\u001b[A\n",
      " 55%|█████▍    | 6/11 [00:07<00:07,  1.44s/it]\u001b[A\n",
      " 64%|██████▎   | 7/11 [00:08<00:04,  1.06s/it]\u001b[A\n",
      " 73%|███████▎  | 8/11 [00:08<00:02,  1.26it/s]\u001b[A\n",
      " 82%|████████▏ | 9/11 [00:10<00:02,  1.12s/it]\u001b[A\n",
      " 91%|█████████ | 10/11 [00:10<00:00,  1.18it/s]\u001b[A\n",
      "100%|██████████| 11/11 [00:10<00:00,  1.05it/s]\u001b[A"
     ],
     "name": "stderr"
    },
    {
     "output_type": "stream",
     "text": [
      "Starting epoch 17/30, LR = [0.01]\n",
      "Step 180, Loss 0.017065927386283875\n"
     ],
     "name": "stdout"
    },
    {
     "output_type": "stream",
     "text": [
      "\n",
      "  0%|          | 0/12 [00:00<?, ?it/s]\u001b[A\n",
      "  8%|▊         | 1/12 [00:04<00:51,  4.64s/it]\u001b[A\n",
      " 17%|█▋        | 2/12 [00:04<00:33,  3.31s/it]\u001b[A\n",
      " 25%|██▌       | 3/12 [00:05<00:21,  2.38s/it]\u001b[A\n",
      " 33%|███▎      | 4/12 [00:05<00:13,  1.72s/it]\u001b[A\n",
      " 42%|████▏     | 5/12 [00:08<00:16,  2.32s/it]\u001b[A\n",
      " 50%|█████     | 6/12 [00:09<00:10,  1.68s/it]\u001b[A\n",
      " 58%|█████▊    | 7/12 [00:09<00:06,  1.23s/it]\u001b[A\n",
      " 67%|██████▋   | 8/12 [00:09<00:03,  1.10it/s]\u001b[A\n",
      " 75%|███████▌  | 9/12 [00:10<00:02,  1.01it/s]\u001b[A\n",
      " 92%|█████████▏| 11/12 [00:10<00:00,  1.39it/s]\u001b[A\n",
      "100%|██████████| 12/12 [00:10<00:00,  1.09it/s]\u001b[A\n",
      "  0%|          | 0/11 [00:00<?, ?it/s]\u001b[A"
     ],
     "name": "stderr"
    },
    {
     "output_type": "stream",
     "text": [
      "accuracy 0.8487654320987654\n",
      "\n"
     ],
     "name": "stdout"
    },
    {
     "output_type": "stream",
     "text": [
      "\n",
      "  9%|▉         | 1/11 [00:04<00:40,  4.04s/it]\u001b[A\n",
      " 18%|█▊        | 2/11 [00:04<00:26,  2.90s/it]\u001b[A\n",
      " 27%|██▋       | 3/11 [00:04<00:16,  2.10s/it]\u001b[A\n",
      " 36%|███▋      | 4/11 [00:04<00:10,  1.54s/it]\u001b[A\n",
      " 45%|████▌     | 5/11 [00:07<00:11,  1.92s/it]\u001b[A\n",
      " 55%|█████▍    | 6/11 [00:07<00:06,  1.40s/it]\u001b[A\n",
      " 64%|██████▎   | 7/11 [00:07<00:04,  1.03s/it]\u001b[A\n",
      " 73%|███████▎  | 8/11 [00:08<00:02,  1.29it/s]\u001b[A\n",
      " 82%|████████▏ | 9/11 [00:10<00:02,  1.12s/it]\u001b[A\n",
      " 91%|█████████ | 10/11 [00:10<00:00,  1.21it/s]\u001b[A\n",
      "100%|██████████| 11/11 [00:10<00:00,  1.07it/s]\u001b[A"
     ],
     "name": "stderr"
    },
    {
     "output_type": "stream",
     "text": [
      "Starting epoch 18/30, LR = [0.01]\n",
      "Step 190, Loss 0.010159406810998917\n"
     ],
     "name": "stdout"
    },
    {
     "output_type": "stream",
     "text": [
      "\n",
      "  0%|          | 0/12 [00:00<?, ?it/s]\u001b[A\n",
      "  8%|▊         | 1/12 [00:04<00:51,  4.68s/it]\u001b[A\n",
      " 17%|█▋        | 2/12 [00:04<00:33,  3.35s/it]\u001b[A\n",
      " 25%|██▌       | 3/12 [00:05<00:21,  2.41s/it]\u001b[A\n",
      " 33%|███▎      | 4/12 [00:05<00:14,  1.75s/it]\u001b[A\n",
      " 42%|████▏     | 5/12 [00:09<00:16,  2.39s/it]\u001b[A\n",
      " 50%|█████     | 6/12 [00:09<00:10,  1.73s/it]\u001b[A\n",
      " 58%|█████▊    | 7/12 [00:09<00:06,  1.27s/it]\u001b[A\n",
      " 67%|██████▋   | 8/12 [00:09<00:03,  1.06it/s]\u001b[A\n",
      " 75%|███████▌  | 9/12 [00:10<00:02,  1.07it/s]\u001b[A\n",
      " 92%|█████████▏| 11/12 [00:10<00:00,  1.47it/s]\u001b[A\n",
      "100%|██████████| 12/12 [00:11<00:00,  1.09it/s]\u001b[A\n",
      "  0%|          | 0/11 [00:00<?, ?it/s]\u001b[A"
     ],
     "name": "stderr"
    },
    {
     "output_type": "stream",
     "text": [
      "accuracy 0.8491083676268861\n",
      "\n"
     ],
     "name": "stdout"
    },
    {
     "output_type": "stream",
     "text": [
      "\n",
      "  9%|▉         | 1/11 [00:04<00:41,  4.13s/it]\u001b[A\n",
      " 18%|█▊        | 2/11 [00:04<00:27,  3.01s/it]\u001b[A\n",
      " 27%|██▋       | 3/11 [00:04<00:17,  2.16s/it]\u001b[A\n",
      " 36%|███▋      | 4/11 [00:04<00:11,  1.57s/it]\u001b[A\n",
      " 45%|████▌     | 5/11 [00:07<00:11,  1.94s/it]\u001b[A\n",
      " 55%|█████▍    | 6/11 [00:08<00:07,  1.47s/it]\u001b[A\n",
      " 64%|██████▎   | 7/11 [00:08<00:04,  1.08s/it]\u001b[A\n",
      " 73%|███████▎  | 8/11 [00:08<00:02,  1.24it/s]\u001b[A\n",
      " 82%|████████▏ | 9/11 [00:10<00:02,  1.04s/it]\u001b[A\n",
      " 91%|█████████ | 10/11 [00:10<00:00,  1.20it/s]\u001b[A\n",
      "100%|██████████| 11/11 [00:10<00:00,  1.05it/s]\u001b[A"
     ],
     "name": "stderr"
    },
    {
     "output_type": "stream",
     "text": [
      "Starting epoch 19/30, LR = [0.01]\n",
      "Step 200, Loss 0.010770853608846664\n"
     ],
     "name": "stdout"
    },
    {
     "output_type": "stream",
     "text": [
      "\n",
      "  0%|          | 0/12 [00:00<?, ?it/s]\u001b[A\n",
      "  8%|▊         | 1/12 [00:04<00:51,  4.71s/it]\u001b[A\n",
      " 17%|█▋        | 2/12 [00:04<00:33,  3.37s/it]\u001b[A\n",
      " 25%|██▌       | 3/12 [00:05<00:21,  2.43s/it]\u001b[A\n",
      " 33%|███▎      | 4/12 [00:05<00:14,  1.76s/it]\u001b[A\n",
      " 42%|████▏     | 5/12 [00:09<00:16,  2.39s/it]\u001b[A\n",
      " 50%|█████     | 6/12 [00:09<00:10,  1.72s/it]\u001b[A\n",
      " 58%|█████▊    | 7/12 [00:09<00:06,  1.26s/it]\u001b[A\n",
      " 67%|██████▋   | 8/12 [00:09<00:03,  1.07it/s]\u001b[A\n",
      " 75%|███████▌  | 9/12 [00:10<00:02,  1.07it/s]\u001b[A\n",
      " 92%|█████████▏| 11/12 [00:10<00:00,  1.47it/s]\u001b[A\n",
      "100%|██████████| 12/12 [00:10<00:00,  1.09it/s]\u001b[A\n",
      "  0%|          | 0/11 [00:00<?, ?it/s]\u001b[A"
     ],
     "name": "stderr"
    },
    {
     "output_type": "stream",
     "text": [
      "Best accuracy 0.8511659807956105\n",
      "\n"
     ],
     "name": "stdout"
    },
    {
     "output_type": "stream",
     "text": [
      "\n",
      "  9%|▉         | 1/11 [00:03<00:39,  3.93s/it]\u001b[A\n",
      " 18%|█▊        | 2/11 [00:04<00:25,  2.83s/it]\u001b[A\n",
      " 27%|██▋       | 3/11 [00:04<00:16,  2.06s/it]\u001b[A\n",
      " 36%|███▋      | 4/11 [00:04<00:10,  1.51s/it]\u001b[A\n",
      " 45%|████▌     | 5/11 [00:07<00:11,  1.95s/it]\u001b[A\n",
      " 55%|█████▍    | 6/11 [00:07<00:07,  1.42s/it]\u001b[A\n",
      " 64%|██████▎   | 7/11 [00:08<00:04,  1.05s/it]\u001b[A\n",
      " 73%|███████▎  | 8/11 [00:08<00:02,  1.27it/s]\u001b[A\n",
      " 82%|████████▏ | 9/11 [00:10<00:02,  1.16s/it]\u001b[A\n",
      "100%|██████████| 11/11 [00:10<00:00,  1.19it/s]\u001b[A\n",
      "\u001b[A"
     ],
     "name": "stderr"
    },
    {
     "output_type": "stream",
     "text": [
      "Starting epoch 20/30, LR = [0.01]\n",
      "Step 210, Loss 0.006424985826015472\n"
     ],
     "name": "stdout"
    },
    {
     "output_type": "stream",
     "text": [
      "\n",
      "  0%|          | 0/12 [00:00<?, ?it/s]\u001b[A\n",
      "  8%|▊         | 1/12 [00:04<00:51,  4.68s/it]\u001b[A\n",
      " 17%|█▋        | 2/12 [00:04<00:33,  3.35s/it]\u001b[A\n",
      " 25%|██▌       | 3/12 [00:05<00:21,  2.42s/it]\u001b[A\n",
      " 33%|███▎      | 4/12 [00:05<00:14,  1.76s/it]\u001b[A\n",
      " 42%|████▏     | 5/12 [00:09<00:16,  2.36s/it]\u001b[A\n",
      " 50%|█████     | 6/12 [00:09<00:10,  1.70s/it]\u001b[A\n",
      " 58%|█████▊    | 7/12 [00:09<00:06,  1.24s/it]\u001b[A\n",
      " 67%|██████▋   | 8/12 [00:09<00:03,  1.08it/s]\u001b[A\n",
      " 75%|███████▌  | 9/12 [00:10<00:02,  1.03it/s]\u001b[A\n",
      " 92%|█████████▏| 11/12 [00:10<00:00,  1.42it/s]\u001b[A\n",
      "100%|██████████| 12/12 [00:11<00:00,  1.08it/s]\u001b[A\n",
      "  0%|          | 0/11 [00:00<?, ?it/s]\u001b[A"
     ],
     "name": "stderr"
    },
    {
     "output_type": "stream",
     "text": [
      "accuracy 0.8511659807956105\n",
      "\n"
     ],
     "name": "stdout"
    },
    {
     "output_type": "stream",
     "text": [
      "\n",
      "  9%|▉         | 1/11 [00:04<00:40,  4.01s/it]\u001b[A\n",
      " 18%|█▊        | 2/11 [00:04<00:25,  2.87s/it]\u001b[A\n",
      " 27%|██▋       | 3/11 [00:04<00:16,  2.08s/it]\u001b[A\n",
      " 36%|███▋      | 4/11 [00:04<00:10,  1.51s/it]\u001b[A\n",
      " 45%|████▌     | 5/11 [00:07<00:11,  1.93s/it]\u001b[A\n",
      " 55%|█████▍    | 6/11 [00:07<00:07,  1.41s/it]\u001b[A\n",
      " 64%|██████▎   | 7/11 [00:07<00:04,  1.04s/it]\u001b[A\n",
      " 73%|███████▎  | 8/11 [00:08<00:02,  1.28it/s]\u001b[A\n",
      " 82%|████████▏ | 9/11 [00:10<00:02,  1.16s/it]\u001b[A\n",
      " 91%|█████████ | 10/11 [00:10<00:00,  1.19it/s]\u001b[A\n",
      "100%|██████████| 11/11 [00:10<00:00,  1.05it/s]\u001b[A"
     ],
     "name": "stderr"
    },
    {
     "output_type": "stream",
     "text": [
      "Starting epoch 21/30, LR = [0.001]\n",
      "Step 220, Loss 0.005101710557937622\n"
     ],
     "name": "stdout"
    },
    {
     "output_type": "stream",
     "text": [
      "\n",
      "  0%|          | 0/12 [00:00<?, ?it/s]\u001b[A"
     ],
     "name": "stderr"
    },
    {
     "output_type": "stream",
     "text": [
      "Step 230, Loss 0.037313226610422134\n"
     ],
     "name": "stdout"
    },
    {
     "output_type": "stream",
     "text": [
      "\n",
      "  8%|▊         | 1/12 [00:04<00:48,  4.41s/it]\u001b[A\n",
      " 17%|█▋        | 2/12 [00:04<00:31,  3.15s/it]\u001b[A\n",
      " 25%|██▌       | 3/12 [00:04<00:20,  2.28s/it]\u001b[A\n",
      " 33%|███▎      | 4/12 [00:05<00:13,  1.66s/it]\u001b[A\n",
      " 42%|████▏     | 5/12 [00:08<00:15,  2.27s/it]\u001b[A\n",
      " 50%|█████     | 6/12 [00:08<00:09,  1.65s/it]\u001b[A\n",
      " 58%|█████▊    | 7/12 [00:09<00:06,  1.21s/it]\u001b[A\n",
      " 67%|██████▋   | 8/12 [00:09<00:03,  1.11it/s]\u001b[A\n",
      " 75%|███████▌  | 9/12 [00:10<00:03,  1.02s/it]\u001b[A\n",
      " 92%|█████████▏| 11/12 [00:10<00:00,  1.35it/s]\u001b[A\n",
      "100%|██████████| 12/12 [00:10<00:00,  1.10it/s]\u001b[A\n",
      "  0%|          | 0/11 [00:00<?, ?it/s]\u001b[A"
     ],
     "name": "stderr"
    },
    {
     "output_type": "stream",
     "text": [
      "accuracy 0.8511659807956105\n",
      "\n"
     ],
     "name": "stdout"
    },
    {
     "output_type": "stream",
     "text": [
      "\n",
      "  9%|▉         | 1/11 [00:03<00:39,  3.99s/it]\u001b[A\n",
      " 18%|█▊        | 2/11 [00:04<00:25,  2.86s/it]\u001b[A\n",
      " 27%|██▋       | 3/11 [00:04<00:16,  2.07s/it]\u001b[A\n",
      " 36%|███▋      | 4/11 [00:04<00:10,  1.52s/it]\u001b[A\n",
      " 45%|████▌     | 5/11 [00:07<00:11,  1.96s/it]\u001b[A\n",
      " 55%|█████▍    | 6/11 [00:07<00:07,  1.43s/it]\u001b[A\n",
      " 64%|██████▎   | 7/11 [00:08<00:04,  1.05s/it]\u001b[A\n",
      " 73%|███████▎  | 8/11 [00:08<00:02,  1.26it/s]\u001b[A\n",
      " 82%|████████▏ | 9/11 [00:10<00:02,  1.12s/it]\u001b[A\n",
      "100%|██████████| 11/11 [00:10<00:00,  1.23it/s]\u001b[A\n",
      "\u001b[A"
     ],
     "name": "stderr"
    },
    {
     "output_type": "stream",
     "text": [
      "Starting epoch 22/30, LR = [0.001]\n",
      "Step 240, Loss 0.006269175559282303\n"
     ],
     "name": "stdout"
    },
    {
     "output_type": "stream",
     "text": [
      "\n",
      "  0%|          | 0/12 [00:00<?, ?it/s]\u001b[A\n",
      "  8%|▊         | 1/12 [00:04<00:51,  4.73s/it]\u001b[A\n",
      " 17%|█▋        | 2/12 [00:04<00:33,  3.38s/it]\u001b[A\n",
      " 25%|██▌       | 3/12 [00:05<00:21,  2.42s/it]\u001b[A\n",
      " 33%|███▎      | 4/12 [00:05<00:14,  1.77s/it]\u001b[A\n",
      " 42%|████▏     | 5/12 [00:09<00:16,  2.40s/it]\u001b[A\n",
      " 50%|█████     | 6/12 [00:09<00:10,  1.73s/it]\u001b[A\n",
      " 58%|█████▊    | 7/12 [00:09<00:06,  1.27s/it]\u001b[A\n",
      " 67%|██████▋   | 8/12 [00:09<00:03,  1.06it/s]\u001b[A\n",
      " 75%|███████▌  | 9/12 [00:10<00:02,  1.07it/s]\u001b[A\n",
      " 92%|█████████▏| 11/12 [00:10<00:00,  1.47it/s]\u001b[A\n",
      "100%|██████████| 12/12 [00:11<00:00,  1.09it/s]\u001b[A\n",
      "  0%|          | 0/11 [00:00<?, ?it/s]\u001b[A"
     ],
     "name": "stderr"
    },
    {
     "output_type": "stream",
     "text": [
      "accuracy 0.8511659807956105\n",
      "\n"
     ],
     "name": "stdout"
    },
    {
     "output_type": "stream",
     "text": [
      "\n",
      "  9%|▉         | 1/11 [00:04<00:42,  4.24s/it]\u001b[A\n",
      " 18%|█▊        | 2/11 [00:04<00:27,  3.02s/it]\u001b[A\n",
      " 27%|██▋       | 3/11 [00:04<00:17,  2.19s/it]\u001b[A\n",
      " 36%|███▋      | 4/11 [00:04<00:11,  1.60s/it]\u001b[A\n",
      " 45%|████▌     | 5/11 [00:07<00:12,  2.02s/it]\u001b[A\n",
      " 55%|█████▍    | 6/11 [00:08<00:07,  1.47s/it]\u001b[A\n",
      " 64%|██████▎   | 7/11 [00:08<00:04,  1.08s/it]\u001b[A\n",
      " 73%|███████▎  | 8/11 [00:08<00:02,  1.24it/s]\u001b[A\n",
      " 82%|████████▏ | 9/11 [00:10<00:02,  1.12s/it]\u001b[A\n",
      "100%|██████████| 11/11 [00:10<00:00,  1.23it/s]\u001b[A\n",
      "\u001b[A"
     ],
     "name": "stderr"
    },
    {
     "output_type": "stream",
     "text": [
      "Starting epoch 23/30, LR = [0.001]\n",
      "Step 250, Loss 0.017256498336791992\n"
     ],
     "name": "stdout"
    },
    {
     "output_type": "stream",
     "text": [
      "\n",
      "  0%|          | 0/12 [00:00<?, ?it/s]\u001b[A\n",
      "  8%|▊         | 1/12 [00:04<00:53,  4.89s/it]\u001b[A\n",
      " 17%|█▋        | 2/12 [00:05<00:34,  3.49s/it]\u001b[A\n",
      " 25%|██▌       | 3/12 [00:05<00:22,  2.50s/it]\u001b[A\n",
      " 33%|███▎      | 4/12 [00:05<00:14,  1.82s/it]\u001b[A\n",
      " 42%|████▏     | 5/12 [00:09<00:17,  2.46s/it]\u001b[A\n",
      " 50%|█████     | 6/12 [00:09<00:10,  1.78s/it]\u001b[A\n",
      " 58%|█████▊    | 7/12 [00:09<00:06,  1.30s/it]\u001b[A\n",
      " 67%|██████▋   | 8/12 [00:10<00:03,  1.04it/s]\u001b[A\n",
      " 75%|███████▌  | 9/12 [00:10<00:02,  1.07it/s]\u001b[A\n",
      " 92%|█████████▏| 11/12 [00:11<00:00,  1.46it/s]\u001b[A\n",
      "100%|██████████| 12/12 [00:11<00:00,  1.07it/s]\u001b[A\n",
      "  0%|          | 0/11 [00:00<?, ?it/s]\u001b[A"
     ],
     "name": "stderr"
    },
    {
     "output_type": "stream",
     "text": [
      "accuracy 0.8508230452674898\n",
      "\n"
     ],
     "name": "stdout"
    },
    {
     "output_type": "stream",
     "text": [
      "\n",
      "  9%|▉         | 1/11 [00:04<00:43,  4.31s/it]\u001b[A\n",
      " 18%|█▊        | 2/11 [00:04<00:27,  3.08s/it]\u001b[A\n",
      " 27%|██▋       | 3/11 [00:04<00:17,  2.22s/it]\u001b[A\n",
      " 36%|███▋      | 4/11 [00:04<00:11,  1.62s/it]\u001b[A\n",
      " 45%|████▌     | 5/11 [00:07<00:12,  2.03s/it]\u001b[A\n",
      " 55%|█████▍    | 6/11 [00:08<00:07,  1.47s/it]\u001b[A\n",
      " 64%|██████▎   | 7/11 [00:08<00:04,  1.08s/it]\u001b[A\n",
      " 73%|███████▎  | 8/11 [00:08<00:02,  1.23it/s]\u001b[A\n",
      " 82%|████████▏ | 9/11 [00:10<00:02,  1.08s/it]\u001b[A\n",
      " 91%|█████████ | 10/11 [00:10<00:00,  1.27it/s]\u001b[A\n",
      "100%|██████████| 11/11 [00:10<00:00,  1.69it/s]\u001b[A\n",
      "\u001b[A"
     ],
     "name": "stderr"
    },
    {
     "output_type": "stream",
     "text": [
      "Starting epoch 24/30, LR = [0.001]\n",
      "Step 260, Loss 0.015126504004001617\n"
     ],
     "name": "stdout"
    },
    {
     "output_type": "stream",
     "text": [
      "\n",
      "  0%|          | 0/12 [00:00<?, ?it/s]\u001b[A\n",
      "  8%|▊         | 1/12 [00:05<00:56,  5.17s/it]\u001b[A\n",
      " 17%|█▋        | 2/12 [00:05<00:36,  3.67s/it]\u001b[A\n",
      " 25%|██▌       | 3/12 [00:05<00:23,  2.63s/it]\u001b[A\n",
      " 33%|███▎      | 4/12 [00:05<00:15,  1.92s/it]\u001b[A\n",
      " 42%|████▏     | 5/12 [00:09<00:16,  2.37s/it]\u001b[A\n",
      " 50%|█████     | 6/12 [00:09<00:10,  1.71s/it]\u001b[A\n",
      " 58%|█████▊    | 7/12 [00:09<00:06,  1.25s/it]\u001b[A\n",
      " 67%|██████▋   | 8/12 [00:09<00:03,  1.08it/s]\u001b[A\n",
      " 75%|███████▌  | 9/12 [00:10<00:02,  1.06it/s]\u001b[A\n",
      " 92%|█████████▏| 11/12 [00:10<00:00,  1.46it/s]\u001b[A\n",
      "100%|██████████| 12/12 [00:11<00:00,  1.09it/s]\u001b[A\n",
      "  0%|          | 0/11 [00:00<?, ?it/s]\u001b[A"
     ],
     "name": "stderr"
    },
    {
     "output_type": "stream",
     "text": [
      "Best accuracy 0.8521947873799726\n",
      "\n"
     ],
     "name": "stdout"
    },
    {
     "output_type": "stream",
     "text": [
      "\n",
      "  9%|▉         | 1/11 [00:04<00:40,  4.08s/it]\u001b[A\n",
      " 18%|█▊        | 2/11 [00:04<00:26,  2.92s/it]\u001b[A\n",
      " 27%|██▋       | 3/11 [00:04<00:16,  2.11s/it]\u001b[A\n",
      " 36%|███▋      | 4/11 [00:04<00:10,  1.55s/it]\u001b[A\n",
      " 45%|████▌     | 5/11 [00:07<00:11,  1.96s/it]\u001b[A\n",
      " 55%|█████▍    | 6/11 [00:07<00:07,  1.42s/it]\u001b[A\n",
      " 64%|██████▎   | 7/11 [00:08<00:04,  1.05s/it]\u001b[A\n",
      " 73%|███████▎  | 8/11 [00:08<00:02,  1.27it/s]\u001b[A\n",
      " 82%|████████▏ | 9/11 [00:10<00:02,  1.15s/it]\u001b[A\n",
      " 91%|█████████ | 10/11 [00:10<00:00,  1.17it/s]\u001b[A\n",
      "100%|██████████| 11/11 [00:10<00:00,  1.04it/s]\u001b[A"
     ],
     "name": "stderr"
    },
    {
     "output_type": "stream",
     "text": [
      "Starting epoch 25/30, LR = [0.001]\n",
      "Step 270, Loss 0.004493106156587601\n"
     ],
     "name": "stdout"
    },
    {
     "output_type": "stream",
     "text": [
      "\n",
      "  0%|          | 0/12 [00:00<?, ?it/s]\u001b[A\n",
      "  8%|▊         | 1/12 [00:04<00:53,  4.83s/it]\u001b[A\n",
      " 17%|█▋        | 2/12 [00:05<00:34,  3.44s/it]\u001b[A\n",
      " 25%|██▌       | 3/12 [00:05<00:22,  2.48s/it]\u001b[A\n",
      " 33%|███▎      | 4/12 [00:05<00:14,  1.80s/it]\u001b[A\n",
      " 42%|████▏     | 5/12 [00:09<00:16,  2.33s/it]\u001b[A\n",
      " 50%|█████     | 6/12 [00:09<00:10,  1.69s/it]\u001b[A\n",
      " 58%|█████▊    | 7/12 [00:09<00:06,  1.24s/it]\u001b[A\n",
      " 67%|██████▋   | 8/12 [00:09<00:03,  1.08it/s]\u001b[A\n",
      " 75%|███████▌  | 9/12 [00:10<00:02,  1.01it/s]\u001b[A\n",
      " 92%|█████████▏| 11/12 [00:10<00:00,  1.39it/s]\u001b[A\n",
      "100%|██████████| 12/12 [00:11<00:00,  1.08it/s]\u001b[A\n",
      "  0%|          | 0/11 [00:00<?, ?it/s]\u001b[A"
     ],
     "name": "stderr"
    },
    {
     "output_type": "stream",
     "text": [
      "accuracy 0.8511659807956105\n",
      "\n"
     ],
     "name": "stdout"
    },
    {
     "output_type": "stream",
     "text": [
      "\n",
      "  9%|▉         | 1/11 [00:03<00:39,  3.97s/it]\u001b[A\n",
      " 18%|█▊        | 2/11 [00:04<00:25,  2.85s/it]\u001b[A\n",
      " 27%|██▋       | 3/11 [00:04<00:16,  2.06s/it]\u001b[A\n",
      " 36%|███▋      | 4/11 [00:04<00:10,  1.51s/it]\u001b[A\n",
      " 45%|████▌     | 5/11 [00:07<00:11,  1.96s/it]\u001b[A\n",
      " 55%|█████▍    | 6/11 [00:07<00:07,  1.43s/it]\u001b[A\n",
      " 64%|██████▎   | 7/11 [00:08<00:04,  1.05s/it]\u001b[A\n",
      " 73%|███████▎  | 8/11 [00:08<00:02,  1.26it/s]\u001b[A\n",
      " 82%|████████▏ | 9/11 [00:09<00:02,  1.08s/it]\u001b[A\n",
      "100%|██████████| 11/11 [00:10<00:00,  1.28it/s]\u001b[A\n",
      "\u001b[A"
     ],
     "name": "stderr"
    },
    {
     "output_type": "stream",
     "text": [
      "Starting epoch 26/30, LR = [0.001]\n",
      "Step 280, Loss 0.009347908198833466\n"
     ],
     "name": "stdout"
    },
    {
     "output_type": "stream",
     "text": [
      "\n",
      "  0%|          | 0/12 [00:00<?, ?it/s]\u001b[A\n",
      "  8%|▊         | 1/12 [00:04<00:52,  4.82s/it]\u001b[A\n",
      " 17%|█▋        | 2/12 [00:05<00:34,  3.44s/it]\u001b[A\n",
      " 25%|██▌       | 3/12 [00:05<00:22,  2.47s/it]\u001b[A\n",
      " 33%|███▎      | 4/12 [00:05<00:14,  1.80s/it]\u001b[A\n",
      " 42%|████▏     | 5/12 [00:08<00:16,  2.29s/it]\u001b[A\n",
      " 50%|█████     | 6/12 [00:09<00:09,  1.65s/it]\u001b[A\n",
      " 58%|█████▊    | 7/12 [00:09<00:06,  1.21s/it]\u001b[A\n",
      " 67%|██████▋   | 8/12 [00:09<00:03,  1.11it/s]\u001b[A\n",
      " 75%|███████▌  | 9/12 [00:10<00:02,  1.05it/s]\u001b[A\n",
      " 83%|████████▎ | 10/12 [00:10<00:01,  1.44it/s]\u001b[A\n",
      "100%|██████████| 12/12 [00:10<00:00,  1.97it/s]\u001b[A\n",
      "\u001b[A\n",
      "  0%|          | 0/11 [00:00<?, ?it/s]\u001b[A"
     ],
     "name": "stderr"
    },
    {
     "output_type": "stream",
     "text": [
      "accuracy 0.850480109739369\n",
      "\n"
     ],
     "name": "stdout"
    },
    {
     "output_type": "stream",
     "text": [
      "\n",
      "  9%|▉         | 1/11 [00:04<00:40,  4.02s/it]\u001b[A\n",
      " 18%|█▊        | 2/11 [00:04<00:25,  2.88s/it]\u001b[A\n",
      " 27%|██▋       | 3/11 [00:04<00:16,  2.07s/it]\u001b[A\n",
      " 36%|███▋      | 4/11 [00:04<00:10,  1.52s/it]\u001b[A\n",
      " 45%|████▌     | 5/11 [00:07<00:11,  1.90s/it]\u001b[A\n",
      " 55%|█████▍    | 6/11 [00:07<00:06,  1.38s/it]\u001b[A\n",
      " 64%|██████▎   | 7/11 [00:07<00:04,  1.02s/it]\u001b[A\n",
      " 73%|███████▎  | 8/11 [00:07<00:02,  1.30it/s]\u001b[A\n",
      " 82%|████████▏ | 9/11 [00:09<00:02,  1.04s/it]\u001b[A\n",
      "100%|██████████| 11/11 [00:09<00:00,  1.33it/s]\u001b[A\n",
      "\u001b[A"
     ],
     "name": "stderr"
    },
    {
     "output_type": "stream",
     "text": [
      "Starting epoch 27/30, LR = [0.001]\n",
      "Step 290, Loss 0.01466970145702362\n"
     ],
     "name": "stdout"
    },
    {
     "output_type": "stream",
     "text": [
      "\n",
      "  0%|          | 0/12 [00:00<?, ?it/s]\u001b[A\n",
      "  8%|▊         | 1/12 [00:04<00:50,  4.56s/it]\u001b[A\n",
      " 17%|█▋        | 2/12 [00:04<00:32,  3.26s/it]\u001b[A\n",
      " 25%|██▌       | 3/12 [00:05<00:21,  2.35s/it]\u001b[A\n",
      " 33%|███▎      | 4/12 [00:05<00:13,  1.71s/it]\u001b[A\n",
      " 42%|████▏     | 5/12 [00:08<00:16,  2.29s/it]\u001b[A\n",
      " 50%|█████     | 6/12 [00:09<00:09,  1.66s/it]\u001b[A\n",
      " 58%|█████▊    | 7/12 [00:09<00:06,  1.21s/it]\u001b[A\n",
      " 67%|██████▋   | 8/12 [00:09<00:03,  1.10it/s]\u001b[A\n",
      " 75%|███████▌  | 9/12 [00:10<00:02,  1.11it/s]\u001b[A\n",
      " 92%|█████████▏| 11/12 [00:10<00:00,  1.52it/s]\u001b[A\n",
      "100%|██████████| 12/12 [00:10<00:00,  1.13it/s]\u001b[A\n",
      "  0%|          | 0/11 [00:00<?, ?it/s]\u001b[A"
     ],
     "name": "stderr"
    },
    {
     "output_type": "stream",
     "text": [
      "accuracy 0.8508230452674898\n",
      "\n"
     ],
     "name": "stdout"
    },
    {
     "output_type": "stream",
     "text": [
      "\n",
      "  9%|▉         | 1/11 [00:03<00:38,  3.85s/it]\u001b[A\n",
      " 18%|█▊        | 2/11 [00:04<00:24,  2.76s/it]\u001b[A\n",
      " 27%|██▋       | 3/11 [00:04<00:16,  2.01s/it]\u001b[A\n",
      " 36%|███▋      | 4/11 [00:04<00:10,  1.48s/it]\u001b[A\n",
      " 45%|████▌     | 5/11 [00:07<00:11,  1.84s/it]\u001b[A\n",
      " 55%|█████▍    | 6/11 [00:07<00:06,  1.34s/it]\u001b[A\n",
      " 64%|██████▎   | 7/11 [00:07<00:03,  1.02it/s]\u001b[A\n",
      " 73%|███████▎  | 8/11 [00:07<00:02,  1.36it/s]\u001b[A\n",
      " 82%|████████▏ | 9/11 [00:09<00:02,  1.11s/it]\u001b[A\n",
      "100%|██████████| 11/11 [00:09<00:00,  1.25it/s]\u001b[A\n",
      "\u001b[A"
     ],
     "name": "stderr"
    },
    {
     "output_type": "stream",
     "text": [
      "Starting epoch 28/30, LR = [0.001]\n",
      "Step 300, Loss 0.016494762152433395\n"
     ],
     "name": "stdout"
    },
    {
     "output_type": "stream",
     "text": [
      "\n",
      "  0%|          | 0/12 [00:00<?, ?it/s]\u001b[A\n",
      "  8%|▊         | 1/12 [00:04<00:51,  4.67s/it]\u001b[A\n",
      " 17%|█▋        | 2/12 [00:04<00:33,  3.32s/it]\u001b[A\n",
      " 25%|██▌       | 3/12 [00:05<00:21,  2.39s/it]\u001b[A\n",
      " 33%|███▎      | 4/12 [00:05<00:13,  1.74s/it]\u001b[A\n",
      " 42%|████▏     | 5/12 [00:09<00:16,  2.38s/it]\u001b[A\n",
      " 50%|█████     | 6/12 [00:09<00:10,  1.72s/it]\u001b[A\n",
      " 58%|█████▊    | 7/12 [00:09<00:06,  1.26s/it]\u001b[A\n",
      " 67%|██████▋   | 8/12 [00:09<00:03,  1.09it/s]\u001b[A\n",
      " 75%|███████▌  | 9/12 [00:10<00:02,  1.13it/s]\u001b[A\n",
      " 92%|█████████▏| 11/12 [00:10<00:00,  1.55it/s]\u001b[A\n",
      "100%|██████████| 12/12 [00:10<00:00,  1.11it/s]\u001b[A\n",
      "  0%|          | 0/11 [00:00<?, ?it/s]\u001b[A"
     ],
     "name": "stderr"
    },
    {
     "output_type": "stream",
     "text": [
      "accuracy 0.8515089163237312\n",
      "\n"
     ],
     "name": "stdout"
    },
    {
     "output_type": "stream",
     "text": [
      "\n",
      "  9%|▉         | 1/11 [00:03<00:37,  3.78s/it]\u001b[A\n",
      " 18%|█▊        | 2/11 [00:04<00:24,  2.74s/it]\u001b[A\n",
      " 27%|██▋       | 3/11 [00:04<00:15,  1.99s/it]\u001b[A\n",
      " 36%|███▋      | 4/11 [00:04<00:10,  1.47s/it]\u001b[A\n",
      " 45%|████▌     | 5/11 [00:07<00:11,  1.84s/it]\u001b[A\n",
      " 55%|█████▍    | 6/11 [00:07<00:06,  1.38s/it]\u001b[A\n",
      " 64%|██████▎   | 7/11 [00:07<00:04,  1.02s/it]\u001b[A\n",
      " 73%|███████▎  | 8/11 [00:07<00:02,  1.31it/s]\u001b[A\n",
      " 82%|████████▏ | 9/11 [00:09<00:02,  1.13s/it]\u001b[A\n",
      "100%|██████████| 11/11 [00:10<00:00,  1.22it/s]\u001b[A\n",
      "\u001b[A"
     ],
     "name": "stderr"
    },
    {
     "output_type": "stream",
     "text": [
      "Starting epoch 29/30, LR = [0.001]\n",
      "Step 310, Loss 0.00493708997964859\n"
     ],
     "name": "stdout"
    },
    {
     "output_type": "stream",
     "text": [
      "\n",
      "  0%|          | 0/12 [00:00<?, ?it/s]\u001b[A\n",
      "  8%|▊         | 1/12 [00:04<00:49,  4.54s/it]\u001b[A\n",
      " 17%|█▋        | 2/12 [00:04<00:32,  3.25s/it]\u001b[A\n",
      " 25%|██▌       | 3/12 [00:05<00:21,  2.34s/it]\u001b[A\n",
      " 33%|███▎      | 4/12 [00:05<00:13,  1.71s/it]\u001b[A\n",
      " 42%|████▏     | 5/12 [00:08<00:15,  2.25s/it]\u001b[A\n",
      " 50%|█████     | 6/12 [00:08<00:09,  1.63s/it]\u001b[A\n",
      " 58%|█████▊    | 7/12 [00:09<00:05,  1.19s/it]\u001b[A\n",
      " 67%|██████▋   | 8/12 [00:09<00:03,  1.13it/s]\u001b[A\n",
      " 75%|███████▌  | 9/12 [00:10<00:02,  1.06it/s]\u001b[A\n",
      " 92%|█████████▏| 11/12 [00:10<00:00,  1.46it/s]\u001b[A\n",
      "100%|██████████| 12/12 [00:10<00:00,  1.13it/s]\u001b[A\n",
      "  0%|          | 0/11 [00:00<?, ?it/s]\u001b[A"
     ],
     "name": "stderr"
    },
    {
     "output_type": "stream",
     "text": [
      "accuracy 0.8511659807956105\n",
      "\n"
     ],
     "name": "stdout"
    },
    {
     "output_type": "stream",
     "text": [
      "\n",
      "  9%|▉         | 1/11 [00:03<00:39,  3.91s/it]\u001b[A\n",
      " 18%|█▊        | 2/11 [00:04<00:25,  2.80s/it]\u001b[A\n",
      " 27%|██▋       | 3/11 [00:04<00:16,  2.02s/it]\u001b[A\n",
      " 36%|███▋      | 4/11 [00:04<00:10,  1.48s/it]\u001b[A\n",
      " 45%|████▌     | 5/11 [00:07<00:11,  1.88s/it]\u001b[A\n",
      " 55%|█████▍    | 6/11 [00:07<00:06,  1.37s/it]\u001b[A\n",
      " 64%|██████▎   | 7/11 [00:07<00:04,  1.01s/it]\u001b[A\n",
      " 73%|███████▎  | 8/11 [00:07<00:02,  1.31it/s]\u001b[A\n",
      " 82%|████████▏ | 9/11 [00:09<00:02,  1.13s/it]\u001b[A\n",
      " 91%|█████████ | 10/11 [00:10<00:00,  1.20it/s]\u001b[A\n",
      "100%|██████████| 11/11 [00:10<00:00,  1.08it/s]\u001b[A"
     ],
     "name": "stderr"
    },
    {
     "output_type": "stream",
     "text": [
      "Starting epoch 30/30, LR = [0.001]\n",
      "Step 320, Loss 0.011034000664949417\n"
     ],
     "name": "stdout"
    },
    {
     "output_type": "stream",
     "text": [
      "\n",
      "  0%|          | 0/12 [00:00<?, ?it/s]\u001b[A\n",
      "  8%|▊         | 1/12 [00:04<00:48,  4.40s/it]\u001b[A\n",
      " 17%|█▋        | 2/12 [00:04<00:31,  3.14s/it]\u001b[A\n",
      " 25%|██▌       | 3/12 [00:04<00:20,  2.26s/it]\u001b[A\n",
      " 33%|███▎      | 4/12 [00:05<00:13,  1.64s/it]\u001b[A\n",
      " 42%|████▏     | 5/12 [00:08<00:15,  2.23s/it]\u001b[A\n",
      " 50%|█████     | 6/12 [00:08<00:09,  1.60s/it]\u001b[A\n",
      " 58%|█████▊    | 7/12 [00:08<00:05,  1.17s/it]\u001b[A\n",
      " 67%|██████▋   | 8/12 [00:09<00:03,  1.14it/s]\u001b[A\n",
      " 75%|███████▌  | 9/12 [00:10<00:03,  1.00s/it]\u001b[A\n",
      " 92%|█████████▏| 11/12 [00:10<00:00,  1.38it/s]\u001b[A\n",
      "100%|██████████| 12/12 [00:10<00:00,  1.12it/s]\u001b[A\n",
      "  0%|          | 0/11 [00:00<?, ?it/s]\u001b[A"
     ],
     "name": "stderr"
    },
    {
     "output_type": "stream",
     "text": [
      "accuracy 0.8515089163237312\n",
      "\n"
     ],
     "name": "stdout"
    },
    {
     "output_type": "stream",
     "text": [
      "\n",
      "  9%|▉         | 1/11 [00:03<00:38,  3.86s/it]\u001b[A\n",
      " 18%|█▊        | 2/11 [00:04<00:24,  2.77s/it]\u001b[A\n",
      " 27%|██▋       | 3/11 [00:04<00:16,  2.01s/it]\u001b[A\n",
      " 36%|███▋      | 4/11 [00:04<00:10,  1.48s/it]\u001b[A\n",
      " 45%|████▌     | 5/11 [00:07<00:11,  1.85s/it]\u001b[A\n",
      " 55%|█████▍    | 6/11 [00:07<00:06,  1.35s/it]\u001b[A\n",
      " 64%|██████▎   | 7/11 [00:07<00:04,  1.00s/it]\u001b[A\n",
      " 73%|███████▎  | 8/11 [00:07<00:02,  1.32it/s]\u001b[A\n",
      " 82%|████████▏ | 9/11 [00:09<00:02,  1.04s/it]\u001b[A\n",
      " 91%|█████████ | 10/11 [00:09<00:00,  1.31it/s]\u001b[A\n",
      "100%|██████████| 11/11 [00:09<00:00,  1.12it/s]\u001b[A"
     ],
     "name": "stderr"
    },
    {
     "output_type": "stream",
     "text": [
      "Loss = [1.7154978513717651, 0.5789200067520142, 0.1964610368013382, 0.13044054806232452, 0.06928829848766327, 0.0631697028875351, 0.03482929244637489, 0.08127230405807495, 0.016721095889806747, 0.03681374713778496, 0.027139194309711456, 0.02133290469646454, 0.010023381561040878, 0.015165083110332489, 0.030835475772619247, 0.011760149151086807, 0.03178276866674423, 0.010552074760198593, 0.006648547947406769, 0.02298865094780922, 0.037313226610422134, 0.008815854787826538, 0.005598347634077072, 0.0069585032761096954, 0.012674562633037567, 0.01183924451470375, 0.00593055784702301, 0.00665036216378212, 0.014200147241353989, 0.008813586086034775]\n",
      "Validation_accuracy = [0.6532921810699589, 0.8103566529492455, 0.8261316872427984, 0.8401920438957476, 0.8453360768175583, 0.8446502057613169, 0.845679012345679, 0.840877914951989, 0.8412208504801097, 0.848079561042524, 0.8477366255144033, 0.8463648834019204, 0.8463648834019204, 0.8494513031550068, 0.8477366255144033, 0.8460219478737997, 0.8487654320987654, 0.8491083676268861, 0.8511659807956105, 0.8511659807956105, 0.8511659807956105, 0.8511659807956105, 0.8508230452674898, 0.8521947873799726, 0.8511659807956105, 0.850480109739369, 0.8508230452674898, 0.8515089163237312, 0.8511659807956105, 0.8515089163237312] \n",
      "Train accuracy = [0.7158298465829847, 0.9149232914923291, 0.9553695955369595, 0.9703626220362622, 0.9787308228730823, 0.9776847977684798, 0.9787308228730823, 0.9766387726638772, 0.9748953974895398, 0.9801255230125523, 0.9808228730822873, 0.9808228730822873, 0.9808228730822873, 0.9808228730822873, 0.9804741980474198, 0.9808228730822873, 0.9808228730822873, 0.9808228730822873, 0.9808228730822873, 0.9808228730822873, 0.9808228730822873, 0.9808228730822873, 0.9808228730822873, 0.9808228730822873, 0.9808228730822873, 0.9808228730822873, 0.9808228730822873, 0.9808228730822873, 0.9808228730822873, 0.9808228730822873] \n"
     ],
     "name": "stdout"
    }
   ]
  },
  {
   "cell_type": "markdown",
   "metadata": {
    "id": "UsHFI-GAJd69",
    "colab_type": "text"
   },
   "source": [
    "**Test**"
   ]
  },
  {
   "cell_type": "code",
   "metadata": {
    "id": "EO3HV5pqJg1o",
    "colab_type": "code",
    "outputId": "5c8dc320-1755-4d3f-915d-56877b8fe818",
    "colab": {
     "base_uri": "https://localhost:8080/",
     "height": 238
    }
   },
   "source": [
    "net = bestNet\n",
    "net = net.to(DEVICE) # this will bring the network to GPU if DEVICE is cuda\n",
    "net.train(False) # Set Network to evaluation mode\n",
    "\n",
    "running_corrects = 0\n",
    "for images, labels in tqdm(test_dataloader):\n",
    "  images = images.to(DEVICE)\n",
    "  labels = labels.to(DEVICE)\n",
    "\n",
    "  # Forward Pass\n",
    "  outputs = net(images)\n",
    "\n",
    "  # Get predictions\n",
    "  _, preds = torch.max(outputs.data, 1)\n",
    "\n",
    "  # Update Corrects\n",
    "  running_corrects += torch.sum(preds == labels.data).data.item()\n",
    "\n",
    "# Calculate Accuracy\n",
    "accuracy = running_corrects / float(len(test_dataset))\n",
    "\n",
    "print('Test Accuracy: {}'.format(accuracy))"
   ],
   "execution_count": 52,
   "outputs": [
    {
     "output_type": "stream",
     "text": [
      "\n",
      "  0%|          | 0/12 [00:00<?, ?it/s]\u001b[A\n",
      "  8%|▊         | 1/12 [00:04<00:48,  4.40s/it]\u001b[A\n",
      " 17%|█▋        | 2/12 [00:04<00:31,  3.15s/it]\u001b[A\n",
      " 25%|██▌       | 3/12 [00:04<00:20,  2.27s/it]\u001b[A\n",
      " 33%|███▎      | 4/12 [00:05<00:13,  1.67s/it]\u001b[A\n",
      " 42%|████▏     | 5/12 [00:08<00:15,  2.16s/it]\u001b[A\n",
      " 50%|█████     | 6/12 [00:08<00:09,  1.56s/it]\u001b[A\n",
      " 58%|█████▊    | 7/12 [00:08<00:05,  1.15s/it]\u001b[A\n",
      " 67%|██████▋   | 8/12 [00:08<00:03,  1.16it/s]\u001b[A\n",
      " 75%|███████▌  | 9/12 [00:10<00:02,  1.08it/s]\u001b[A\n",
      " 92%|█████████▏| 11/12 [00:10<00:00,  1.49it/s]\u001b[A\n",
      "100%|██████████| 12/12 [00:10<00:00,  1.16it/s]\u001b[A"
     ],
     "name": "stderr"
    },
    {
     "output_type": "stream",
     "text": [
      "Test Accuracy: 0.8572416176978914\n"
     ],
     "name": "stdout"
    }
   ]
  }
 ]
}