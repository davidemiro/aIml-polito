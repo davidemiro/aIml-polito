{
  "nbformat": 4,
  "nbformat_minor": 0,
  "metadata": {
    "colab": {
      "name": "homework3.ipynb",
      "provenance": [],
      "collapsed_sections": []
    },
    "kernelspec": {
      "name": "python3",
      "display_name": "Python 3"
    },
    "accelerator": "GPU"
  },
  "cells": [
    {
      "cell_type": "markdown",
      "metadata": {
        "id": "c9QcGnGPdX2C",
        "colab_type": "text"
      },
      "source": [
        "\n",
        "**Install requirements**"
      ]
    },
    {
      "cell_type": "markdown",
      "metadata": {
        "id": "0pflPQZFoRQq",
        "colab_type": "text"
      },
      "source": [
        ""
      ]
    },
    {
      "cell_type": "code",
      "metadata": {
        "id": "k9O3aM3Tb28q",
        "colab_type": "code",
        "outputId": "6541b859-ba6d-4bf5-e0d6-0dfc86b80a98",
        "colab": {
          "base_uri": "https://localhost:8080/",
          "height": 170
        }
      },
      "source": [
        "!pip3 install 'torch==1.3.1'\n",
        "!pip3 install 'torchvision==0.4.2'\n",
        "!pip3 install 'Pillow-SIMD'\n",
        "!pip3 install 'tqdm'"
      ],
      "execution_count": 43,
      "outputs": [
        {
          "output_type": "stream",
          "text": [
            "Requirement already satisfied: torch==1.3.1 in /usr/local/lib/python3.6/dist-packages (1.3.1)\n",
            "Requirement already satisfied: numpy in /usr/local/lib/python3.6/dist-packages (from torch==1.3.1) (1.17.5)\n",
            "Requirement already satisfied: torchvision==0.4.2 in /usr/local/lib/python3.6/dist-packages (0.4.2)\n",
            "Requirement already satisfied: six in /usr/local/lib/python3.6/dist-packages (from torchvision==0.4.2) (1.12.0)\n",
            "Requirement already satisfied: torch==1.3.1 in /usr/local/lib/python3.6/dist-packages (from torchvision==0.4.2) (1.3.1)\n",
            "Requirement already satisfied: numpy in /usr/local/lib/python3.6/dist-packages (from torchvision==0.4.2) (1.17.5)\n",
            "Requirement already satisfied: pillow>=4.1.1 in /usr/local/lib/python3.6/dist-packages (from torchvision==0.4.2) (6.2.2)\n",
            "Requirement already satisfied: Pillow-SIMD in /usr/local/lib/python3.6/dist-packages (6.0.0.post0)\n",
            "Requirement already satisfied: tqdm in /usr/local/lib/python3.6/dist-packages (4.28.1)\n"
          ],
          "name": "stdout"
        }
      ]
    },
    {
      "cell_type": "markdown",
      "metadata": {
        "id": "fo942LMOdlh4",
        "colab_type": "text"
      },
      "source": [
        "**Import libraries**"
      ]
    },
    {
      "cell_type": "code",
      "metadata": {
        "id": "DokFOdD1dJEl",
        "colab_type": "code",
        "colab": {}
      },
      "source": [
        "import os\n",
        "import logging\n",
        "\n",
        "import torch\n",
        "import torch.nn as nn\n",
        "import torch.optim as optim\n",
        "from torch.utils.data import Subset, DataLoader\n",
        "from torch.backends import cudnn\n",
        "import copy\n",
        "import pdb\n",
        "\n",
        "import matplotlib.pyplot as plt\n",
        "\n",
        "import torchvision\n",
        "from torchvision import transforms\n",
        "from torchvision.models import alexnet\n",
        "from torch.autograd import Function\n",
        "\n",
        "from PIL import Image\n",
        "from tqdm import tqdm"
      ],
      "execution_count": 0,
      "outputs": []
    },
    {
      "cell_type": "markdown",
      "metadata": {
        "id": "OIDLJuIXK_vh",
        "colab_type": "text"
      },
      "source": [
        "**Set Arguments**"
      ]
    },
    {
      "cell_type": "code",
      "metadata": {
        "id": "d5PkYfqfK_SA",
        "colab_type": "code",
        "colab": {}
      },
      "source": [
        "DEVICE = 'cuda' # 'cuda' or 'cpu'\n",
        "\n",
        "\n",
        "\n",
        "BATCH_SIZE = 64     # Higher batch sizes allows for larger learning rates. An empirical heuristic suggests that, when changing\n",
        "                     # the batch size, learning rate should change by the same factor to have comparable results\n",
        "\n",
        "LR = 1e-2        # The initial Learning Rate\n",
        "MOMENTUM = 0.9       # Hyperparameter for SGD, keep this at 0.9 when using SGD\n",
        "WEIGHT_DECAY = 5e-5  # Regularization, you can keep this at the default\n",
        "\n",
        "NUM_EPOCHS = 30      # Total number of training epochs (iterations over dataset)\n",
        "STEP_SIZE = 20       # How many epochs before decreasing learning rate (if using a step-down policy)\n",
        "GAMMA = 0.1          # Multiplicative factor for learning rate step-down\n",
        "ALPHA = 0.01\n",
        "LOG_FREQUENCY = 10"
      ],
      "execution_count": 0,
      "outputs": []
    },
    {
      "cell_type": "markdown",
      "metadata": {
        "id": "9gwii0TBHvzh",
        "colab_type": "text"
      },
      "source": [
        "**Define Data Preprocessing**"
      ]
    },
    {
      "cell_type": "code",
      "metadata": {
        "id": "QUDdw4j2H0Mc",
        "colab_type": "code",
        "colab": {}
      },
      "source": [
        "# Define transforms for training phase\n",
        "train_transform = transforms.Compose([transforms.Resize(256),      # Resizes short size of the PIL image to 256\n",
        "                                      transforms.CenterCrop(224),  # Crops a central square patch of the image\n",
        "                                                                   # 224 because torchvision's AlexNet needs a 224x224 input!\n",
        "                                                                   # Remember this when applying different transformations, otherwise you get an error\n",
        "                                      transforms.ToTensor(), # Turn PIL Image to torch.Tensor\n",
        "                                      transforms.Normalize((0.485, 0.456, 0.406), (0.229, 0.224, 0.225)) # Normalizes tensor with mean and standard deviation\n",
        "])"
      ],
      "execution_count": 0,
      "outputs": []
    },
    {
      "cell_type": "markdown",
      "metadata": {
        "id": "A7zvuFbOoXfT",
        "colab_type": "text"
      },
      "source": [
        "**DANN**"
      ]
    },
    {
      "cell_type": "code",
      "metadata": {
        "id": "xnks9Wcqobk6",
        "colab_type": "code",
        "colab": {}
      },
      "source": [
        "import torch\n",
        "import torch.nn as nn\n",
        "from torch.hub import load_state_dict_from_url\n",
        "\n",
        "\n",
        "model_urls = {\n",
        "    'alexnet': 'https://download.pytorch.org/models/alexnet-owt-4df8aa71.pth',\n",
        "}\n",
        "\n",
        "class ReverseLayerF(Function):\n",
        "    # Forwards identity\n",
        "    # Sends backward reversed gradients\n",
        "    @staticmethod\n",
        "    def forward(ctx, x, alpha):\n",
        "        ctx.alpha = alpha\n",
        "\n",
        "        return x.view_as(x)\n",
        "\n",
        "    @staticmethod\n",
        "    def backward(ctx, grad_output):\n",
        "        output = grad_output.neg() * ctx.alpha\n",
        "\n",
        "        return output, None\n",
        "\n",
        "class DANN(nn.Module):\n",
        "\n",
        "    def __init__(self, num_classes=1000):\n",
        "        super(DANN, self).__init__()\n",
        "        self.features = nn.Sequential(\n",
        "            nn.Conv2d(3, 64, kernel_size=11, stride=4, padding=2),\n",
        "            nn.ReLU(inplace=True),\n",
        "            nn.MaxPool2d(kernel_size=3, stride=2),\n",
        "            nn.Conv2d(64, 192, kernel_size=5, padding=2),\n",
        "            nn.ReLU(inplace=True),\n",
        "            nn.MaxPool2d(kernel_size=3, stride=2),\n",
        "            nn.Conv2d(192, 384, kernel_size=3, padding=1),\n",
        "            nn.ReLU(inplace=True),\n",
        "            nn.Conv2d(384, 256, kernel_size=3, padding=1),\n",
        "            nn.ReLU(inplace=True),\n",
        "            nn.Conv2d(256, 256, kernel_size=3, padding=1),\n",
        "            nn.ReLU(inplace=True),\n",
        "            nn.MaxPool2d(kernel_size=3, stride=2),\n",
        "        )\n",
        "\n",
        "        self.avgpool = nn.AdaptiveAvgPool2d((6, 6))\n",
        "        self.class_classifier = nn.Sequential(\n",
        "            nn.Dropout(),\n",
        "            nn.Linear(256 * 6 * 6, 4096),\n",
        "            nn.ReLU(inplace=True),\n",
        "            nn.Dropout(),\n",
        "            nn.Linear(4096, 4096),\n",
        "            nn.ReLU(inplace=True),\n",
        "            nn.Linear(4096, num_classes),\n",
        "        )\n",
        "        #carico il modello\n",
        "        state_dict = load_state_dict_from_url(model_urls['alexnet'])\n",
        "        self.load_state_dict(state_dict = state_dict,strict=False)\n",
        "        self.domain_classifier = copy.deepcopy(self.class_classifier)\n",
        "        self.domain_classifier[6].out_features = 2\n",
        "\n",
        "\n",
        "    def forward(self,input_data,alpha):\n",
        "        \n",
        "        feature = self.features(input_data)\n",
        "        feature = self.avgpool(feature)\n",
        "        feature = torch.flatten(feature, 1)\n",
        "        if alpha is not None:\n",
        "            # gradient reversal layer (backward gradients will be reversed)\n",
        "            reverse_feature = ReverseLayerF.apply(feature, alpha)\n",
        "            discriminator_output = self.domain_classifier(reverse_feature)\n",
        "            return discriminator_output\n",
        "        # If we don't pass alpha, we assume we are training with supervision\n",
        "        else:\n",
        "            # do something else\n",
        "            class_outputs = self.class_classifier(feature)\n",
        "            return class_outputs\n",
        "  \n"
      ],
      "execution_count": 0,
      "outputs": []
    },
    {
      "cell_type": "markdown",
      "metadata": {
        "id": "oZa28zt0ow8N",
        "colab_type": "text"
      },
      "source": [
        "**Import Dataset**"
      ]
    },
    {
      "cell_type": "code",
      "metadata": {
        "id": "QfVq_uDHLbsR",
        "colab_type": "code",
        "colab": {}
      },
      "source": [
        "# Clone github repository with data\n",
        "if not os.path.isdir('./Homework3-PACS'):\n",
        "  !git clone https://github.com/MachineLearning2020/Homework3-PACS.git\n",
        "\n",
        "DATA_DIR = 'Homework3-PACS/PACS/'\n",
        "\n",
        "# Prepare Pytorch train/test Datasets\n",
        "photo_dataset = torchvision.datasets.ImageFolder(DATA_DIR+'photo', transform=train_transform)\n",
        "art_dataset = torchvision.datasets.ImageFolder(DATA_DIR+'art_painting', transform=train_transform)\n",
        "sketch_dataset = torchvision.datasets.ImageFolder(DATA_DIR+'sketch', transform=train_transform)\n",
        "cartoon_dataset = torchvision.datasets.ImageFolder(DATA_DIR+'cartoon', transform=train_transform)\n",
        "\n",
        "\n",
        "\n",
        "# Check dataset size\n",
        "#print('Source Dataset: {}'.format(len(source_dataset)))\n",
        "#print('Target Dataset: {}'.format(len(target_dataset)))"
      ],
      "execution_count": 0,
      "outputs": []
    },
    {
      "cell_type": "markdown",
      "metadata": {
        "id": "UqC_Fi3f1IoX",
        "colab_type": "text"
      },
      "source": [
        "**Grid search no Domain adaptation**"
      ]
    },
    {
      "cell_type": "code",
      "metadata": {
        "id": "Vp3MtFKy1AgJ",
        "colab_type": "code",
        "outputId": "d97ace63-080b-4c3f-c060-02946a83af15",
        "colab": {
          "base_uri": "https://localhost:8080/",
          "height": 54
        }
      },
      "source": [
        "'''\n",
        "#paramiters for grid search\n",
        "lr = [1e-3,1e-2,1e-1]\n",
        "batch_size = [64,128,256]\n",
        "best_lr = 0\n",
        "best_batch_size = 0\n",
        "best_accuracy = 0\n",
        "\n",
        "\n",
        "for l in lr:\n",
        "  for b in batch_size:\n",
        "\n",
        "    source_dataloader = DataLoader(photo_dataset, batch_size=b, shuffle=True, num_workers=4, drop_last=True)\n",
        "    target_dataloader_1 = DataLoader(cartoon_dataset, batch_size=b, shuffle=True, num_workers=4, drop_last=True)\n",
        "    target_dataloader_2 = DataLoader(sketch_dataset, batch_size=b, shuffle=True, num_workers=4, drop_last=True)\n",
        "\n",
        "      \n",
        "\n",
        "    net_1 = DANN() # Loading DANN\n",
        "    net_2 = DANN()\n",
        "    # 7 classes of PACS\n",
        "    net_1.class_classifier[6] = nn.Linear(4096, 7)\n",
        "    net_2.class_classifier[6] = nn.Linear(4096, 7)\n",
        "\n",
        "\n",
        "    optimizer_1 = optim.SGD(net_1.parameters(), lr=l, momentum=MOMENTUM, weight_decay=WEIGHT_DECAY)\n",
        "    optimizer_2 = optim.SGD(net_2.parameters(), lr=l, momentum=MOMENTUM, weight_decay=WEIGHT_DECAY)\n",
        "\n",
        "    loss_class = nn.CrossEntropyLoss()\n",
        "\n",
        "    net_1 = net_1.cuda()\n",
        "    net_2 = net_2.cuda()\n",
        "    loss_class = loss_class.cuda()\n",
        "\n",
        "    for p in net_1.parameters():\n",
        "        p.requires_grad = True\n",
        "    for p in net_2.parameters():\n",
        "      p.requires_grad = True\n",
        "\n",
        "      # By default, everything is loaded to cpu\n",
        "    net_1 = net_1.to(DEVICE) # this will bring the network to GPU if DEVICE is cuda\n",
        "    net_2 = net_2.to(DEVICE)\n",
        "    cudnn.benchmark # Calling this optimizes runtime\n",
        "      \n",
        "    num_epochs = 5\n",
        "      # Start iterating over the epochs\n",
        "    for epoch in range(num_epochs):\n",
        "      # Train model with source data\n",
        "      for images, labels in source_dataloader:\n",
        "\n",
        "      # Bring data over the device of choice\n",
        "        optimizer_1.zero_grad() # Zero-ing the gradients\n",
        "        optimizer_2.zero_grad()\n",
        "\n",
        "        images = images.to(DEVICE)\n",
        "        labels = labels.to(DEVICE)\n",
        "        #Train classifier\n",
        "        class_output_1 = net_1(input_data=images,alpha = None)\n",
        "        class_output_2 = net_2(input_data=images,alpha = None)\n",
        "        err_s_label_1 = loss_class(class_output_1, labels)\n",
        "        err_s_label_2 = loss_class(class_output_2, labels)\n",
        "        err_s_label_1.backward()\n",
        "        err_s_label_2.backward()\n",
        "        optimizer_1.step()\n",
        "        optimizer_2.step()\n",
        "\n",
        "          \n",
        "      #Validate model\n",
        "      net_1.train(False)\n",
        "      net_2.train(False)\n",
        "\n",
        "      running_corrects = 0\n",
        "      for images, labels in tqdm(target_dataloader_1):\n",
        "        images = images.to(DEVICE)\n",
        "        labels = labels.to(DEVICE)\n",
        "        labels_domain = torch.ones(len(labels)).to(DEVICE)\n",
        "        # Forward Pass\n",
        "        outputs = net_1(images,alpha = None)\n",
        "        # Get predictions\n",
        "        _, preds = torch.max(outputs.data, 1)\n",
        "        # Update Corrects\n",
        "        running_corrects += torch.sum(preds == labels.data).data.item()\n",
        "      accuracy_1 = running_corrects / float(len(cartoon_dataset))\n",
        "\n",
        "      running_corrects = 0\n",
        "      for images, labels in tqdm(target_dataloader_2):\n",
        "        images = images.to(DEVICE)\n",
        "        labels = labels.to(DEVICE)\n",
        "        labels_domain = torch.ones(len(labels)).to(DEVICE)\n",
        "        # Forward Pass\n",
        "        outputs = net_2(images,alpha = None)\n",
        "        # Get predictions\n",
        "        _, preds = torch.max(outputs.data, 1)\n",
        "        # Update Corrects\n",
        "        running_corrects += torch.sum(preds == labels.data).data.item()\n",
        "      accuracy_2 = running_corrects / float(len(sketch_dataset))\n",
        "      \n",
        "      accuracy = (accuracy_1 + accuracy_2)/2\n",
        "      if(best_accuracy < accuracy):\n",
        "        best_accuracy = accuracy\n",
        "        best_lr = l\n",
        "        best_batch_size = b\n",
        "\n",
        "LR = best_lr\n",
        "BATCH_SIZE = best_batch_size\n",
        "\n",
        "print(\"LR %f\",LR)\n",
        "print(\"BATCH_SIZE\",BATCH_SIZE)\n",
        "print(\"Accuracy %f\",best_accuracy)\n",
        "'''\n",
        "\n"
      ],
      "execution_count": 49,
      "outputs": [
        {
          "output_type": "execute_result",
          "data": {
            "text/plain": [
              "'\\n#paramiters for grid search\\nlr = [1e-3,1e-2,1e-1]\\nbatch_size = [64,128,256]\\nbest_lr = 0\\nbest_batch_size = 0\\nbest_accuracy = 0\\n\\n\\nfor l in lr:\\n  for b in batch_size:\\n\\n    source_dataloader = DataLoader(photo_dataset, batch_size=b, shuffle=True, num_workers=4, drop_last=True)\\n    target_dataloader_1 = DataLoader(cartoon_dataset, batch_size=b, shuffle=True, num_workers=4, drop_last=True)\\n    target_dataloader_2 = DataLoader(sketch_dataset, batch_size=b, shuffle=True, num_workers=4, drop_last=True)\\n\\n      \\n\\n    net_1 = DANN() # Loading DANN\\n    net_2 = DANN()\\n    # 7 classes of PACS\\n    net_1.class_classifier[6] = nn.Linear(4096, 7)\\n    net_2.class_classifier[6] = nn.Linear(4096, 7)\\n\\n\\n    optimizer_1 = optim.SGD(net_1.parameters(), lr=l, momentum=MOMENTUM, weight_decay=WEIGHT_DECAY)\\n    optimizer_2 = optim.SGD(net_2.parameters(), lr=l, momentum=MOMENTUM, weight_decay=WEIGHT_DECAY)\\n\\n    loss_class = nn.CrossEntropyLoss()\\n\\n    net_1 = net_1.cuda()\\n    net_2 = net_2.cuda()\\n    loss_class = loss_class.cuda()\\n\\n    for p in net_1.parameters():\\n        p.requires_grad = True\\n    for p in net_2.parameters():\\n      p.requires_grad = True\\n\\n      # By default, everything is loaded to cpu\\n    net_1 = net_1.to(DEVICE) # this will bring the network to GPU if DEVICE is cuda\\n    net_2 = net_2.to(DEVICE)\\n    cudnn.benchmark # Calling this optimizes runtime\\n      \\n    num_epochs = 5\\n      # Start iterating over the epochs\\n    for epoch in range(num_epochs):\\n      # Train model with source data\\n      for images, labels in source_dataloader:\\n\\n      # Bring data over the device of choice\\n        optimizer_1.zero_grad() # Zero-ing the gradients\\n        optimizer_2.zero_grad()\\n\\n        images = images.to(DEVICE)\\n        labels = labels.to(DEVICE)\\n        #Train classifier\\n        class_output_1 = net_1(input_data=images,alpha = None)\\n        class_output_2 = net_2(input_data=images,alpha = None)\\n        err_s_label_1 = loss_class(class_output_1, labels)\\n        err_s_label_2 = loss_class(class_output_2, labels)\\n        err_s_label_1.backward()\\n        err_s_label_2.backward()\\n        optimizer_1.step()\\n        optimizer_2.step()\\n\\n          \\n      #Validate model\\n      net_1.train(False)\\n      net_2.train(False)\\n\\n      running_corrects = 0\\n      for images, labels in tqdm(target_dataloader_1):\\n        images = images.to(DEVICE)\\n        labels = labels.to(DEVICE)\\n        labels_domain = torch.ones(len(labels)).to(DEVICE)\\n        # Forward Pass\\n        outputs = net_1(images,alpha = None)\\n        # Get predictions\\n        _, preds = torch.max(outputs.data, 1)\\n        # Update Corrects\\n        running_corrects += torch.sum(preds == labels.data).data.item()\\n      accuracy_1 = running_corrects / float(len(cartoon_dataset))\\n\\n      running_corrects = 0\\n      for images, labels in tqdm(target_dataloader_2):\\n        images = images.to(DEVICE)\\n        labels = labels.to(DEVICE)\\n        labels_domain = torch.ones(len(labels)).to(DEVICE)\\n        # Forward Pass\\n        outputs = net_2(images,alpha = None)\\n        # Get predictions\\n        _, preds = torch.max(outputs.data, 1)\\n        # Update Corrects\\n        running_corrects += torch.sum(preds == labels.data).data.item()\\n      accuracy_2 = running_corrects / float(len(sketch_dataset))\\n      \\n      accuracy = (accuracy_1 + accuracy_2)/2\\n      if(best_accuracy < accuracy):\\n        best_accuracy = accuracy\\n        best_lr = l\\n        best_batch_size = b\\n\\nLR = best_lr\\nBATCH_SIZE = best_batch_size\\n\\nprint(\"LR %f\",LR)\\nprint(\"BATCH_SIZE\",BATCH_SIZE)\\nprint(\"Accuracy %f\",best_accuracy)\\n'"
            ]
          },
          "metadata": {
            "tags": []
          },
          "execution_count": 49
        }
      ]
    },
    {
      "cell_type": "markdown",
      "metadata": {
        "id": "oyknUShcsFXR",
        "colab_type": "text"
      },
      "source": [
        "**Grid search**"
      ]
    },
    {
      "cell_type": "code",
      "metadata": {
        "id": "vP1mB1LrsLun",
        "colab_type": "code",
        "outputId": "3ab87bc0-43ef-46b0-e6d5-454763bd414b",
        "colab": {
          "base_uri": "https://localhost:8080/",
          "height": 54
        }
      },
      "source": [
        "'''\n",
        "#paramiters for grid search\n",
        "lr = [1e-3,1e-2,1e-1]\n",
        "alpha =[1e-2,1e-1,1]\n",
        "batch_size = [64,128,256]\n",
        "best_lr = 0\n",
        "best_alpha = 0\n",
        "best_batch_size = 0\n",
        "best_accuracy = 0\n",
        "\n",
        "\n",
        "for l in lr:\n",
        "  for a in alpha:\n",
        "    for b in batch_size:\n",
        "\n",
        "      source_dataloader = DataLoader(photo_dataset, batch_size=b, shuffle=True, num_workers=4, drop_last=True)\n",
        "      target_dataloader_1 = DataLoader(cartoon_dataset, batch_size=b, shuffle=True, num_workers=4, drop_last=True)\n",
        "      target_dataloader_2 = DataLoader(sketch_dataset, batch_size=b, shuffle=True, num_workers=4, drop_last=True)\n",
        "      \n",
        "\n",
        "      net_1 = DANN() # Loading DANN\n",
        "      net_2 = DANN()\n",
        "      # 7 classes of PACS\n",
        "      net_1.class_classifier[6] = nn.Linear(4096, 7) # nn.Linear in pytorch is a fully connected layer\n",
        "                                                 # The convolutional layer is nn.Conv2d\n",
        "      net_2.class_classifier[6] = nn.Linear(4096, 7)                                         \n",
        "\n",
        "      optimizer_1 = optim.SGD(net_1.parameters(), lr=l, momentum=MOMENTUM, weight_decay=WEIGHT_DECAY)\n",
        "      optimizer_2 = optim.SGD(net_2.parameters(), lr=l, momentum=MOMENTUM, weight_decay=WEIGHT_DECAY)\n",
        "\n",
        "      loss_class = nn.CrossEntropyLoss()\n",
        "      loss_domain = nn.CrossEntropyLoss()\n",
        "\n",
        "      net_1 = net_1.cuda()\n",
        "      net_2 = net_2.cuda()\n",
        "\n",
        "      loss_class = loss_class.cuda()\n",
        "      loss_domain = loss_domain.cuda()\n",
        "\n",
        "      for p in net_1.parameters():\n",
        "        p.requires_grad = True\n",
        "      for p in net_2.parameters():\n",
        "        p.requires_grad = True\n",
        "\n",
        "      # By default, everything is loaded to cpu\n",
        "      net_1 = net_1.to(DEVICE) # this will bring the network to GPU if DEVICE is cuda\n",
        "      net_2 = net_2.to(DEVICE)\n",
        "      cudnn.benchmark # Calling this optimizes runtime\n",
        "      \n",
        "      num_epochs = 5\n",
        "      # Start iterating over the epochs\n",
        "      for epoch in range(num_epochs):\n",
        "        # Train model with source data\n",
        "        iter_target = iter(target_dataloader_1)\n",
        "        for xs,ys in source_dataloader:\n",
        "          net_1.zero_grad()\n",
        "          try:\n",
        "            xt,yt = next(iter_target)\n",
        "          except:\n",
        "          #if i finish target data i restart iteration over them to finish source data\n",
        "            iter_target = iter(target_dataloader_1)\n",
        "            xt,yt = next(iter_target)\n",
        "          \n",
        "          \n",
        "          xs = xs.to(DEVICE)\n",
        "          ys = ys.to(DEVICE)\n",
        "          xt = xt.to(DEVICE)\n",
        "          ysd = torch.zeros(b).long().to(DEVICE)\n",
        "          yt = torch.ones(b).long().to(DEVICE)\n",
        "      \n",
        "          #Train classifier\n",
        "          class_output = net_1(input_data=xs,alpha = None)\n",
        "          err_s_label = loss_class(class_output, ys)\n",
        "          err_s_label.backward()\n",
        "\n",
        "          #Train discriminator source data\n",
        "          domain_output = net_1(input_data=xs,alpha=a)\n",
        "          err_s_domain = loss_domain(domain_output, ysd)\n",
        "          err_s_domain.backward()\n",
        "\n",
        "          #Train discriminator target data\n",
        "          domain_output = net_1(input_data=xt,alpha=a)\n",
        "          err_t_domain = loss_domain(domain_output,yt)\n",
        "          err_t_domain.backward()\n",
        "    \n",
        "          optimizer_1.step()\n",
        "\n",
        "        iter_target = iter(target_dataloader_2)\n",
        "          \n",
        "        for xs,ys in source_dataloader:\n",
        "          net_2.zero_grad()\n",
        "          try:\n",
        "            xt,yt = next(iter_target)\n",
        "          except:\n",
        "          #if i finish target data i restart iteration over them to finish source data\n",
        "            iter_target = iter(target_dataloader_2)\n",
        "            xt,yt = next(iter_target)\n",
        "          \n",
        "          \n",
        "          xs = xs.to(DEVICE)\n",
        "          ys = ys.to(DEVICE)\n",
        "          xt = xt.to(DEVICE)\n",
        "          ysd = torch.zeros(b).long().to(DEVICE)\n",
        "          yt = torch.ones(b).long().to(DEVICE)\n",
        "      \n",
        "          #Train classifier\n",
        "          class_output = net_2(input_data=xs,alpha = None)\n",
        "          err_s_label = loss_class(class_output, ys)\n",
        "          err_s_label.backward()\n",
        "\n",
        "          #Train discriminator source data\n",
        "          domain_output = net_2(input_data=xs,alpha=a)\n",
        "          err_s_domain = loss_domain(domain_output, ysd)\n",
        "          err_s_domain.backward()\n",
        "\n",
        "          #Train discriminator target data\n",
        "          domain_output = net_2(input_data=xt,alpha=a)\n",
        "          err_t_domain = loss_domain(domain_output,yt)\n",
        "          err_t_domain.backward()\n",
        "    \n",
        "          optimizer_2.step()    \n",
        "      #Validate model\n",
        "      net_1.train(False)\n",
        "      net_2.train(False)\n",
        "\n",
        "      running_corrects = 0\n",
        "      for images, labels in tqdm(target_dataloader_1):\n",
        "        images = images.to(DEVICE)\n",
        "        labels = labels.to(DEVICE)\n",
        "        # Forward Pass\n",
        "        outputs = net_1(images,alpha = None)\n",
        "        # Get predictions\n",
        "        _, preds = torch.max(outputs.data, 1)\n",
        "        # Update Corrects\n",
        "        running_corrects += torch.sum(preds == labels.data).data.item()\n",
        "      accuracy_1 = running_corrects / float(len(cartoon_dataset))\n",
        "\n",
        "      running_corrects = 0\n",
        "      for images, labels in tqdm(target_dataloader_2):\n",
        "        images = images.to(DEVICE)\n",
        "        labels = labels.to(DEVICE)\n",
        "        # Forward Pass\n",
        "        outputs = net_2(images,alpha = None)\n",
        "        # Get predictions\n",
        "        _, preds = torch.max(outputs.data, 1)\n",
        "        # Update Corrects\n",
        "        running_corrects += torch.sum(preds == labels.data).data.item()\n",
        "      accuracy_2 = running_corrects / float(len(sketch_dataset))\n",
        "\n",
        "      accuracy = (accuracy_1 + accuracy_2)/2\n",
        "\n",
        "      if(best_accuracy < accuracy):\n",
        "        best_accuracy = accuracy\n",
        "        best_lr = l\n",
        "        best_alpha = a\n",
        "        best_batch_size = b\n",
        "\n",
        "LR = best_lr\n",
        "ALPHA = best_alpha\n",
        "BATCH_SIZE = best_batch_size\n",
        "\n",
        "print(\"LR %f\",LR)\n",
        "print(\"ALPHA %f\",ALPHA)\n",
        "print(\"BATCH_SIZE\",BATCH_SIZE)\n",
        "print(\"Accuracy %f\",best_accuracy)\n",
        "'''"
      ],
      "execution_count": 50,
      "outputs": [
        {
          "output_type": "execute_result",
          "data": {
            "text/plain": [
              "'\\n#paramiters for grid search\\nlr = [1e-3,1e-2,1e-1]\\nalpha =[1e-2,1e-1,1]\\nbatch_size = [64,128,256]\\nbest_lr = 0\\nbest_alpha = 0\\nbest_batch_size = 0\\nbest_accuracy = 0\\n\\n\\nfor l in lr:\\n  for a in alpha:\\n    for b in batch_size:\\n\\n      source_dataloader = DataLoader(photo_dataset, batch_size=b, shuffle=True, num_workers=4, drop_last=True)\\n      target_dataloader_1 = DataLoader(cartoon_dataset, batch_size=b, shuffle=True, num_workers=4, drop_last=True)\\n      target_dataloader_2 = DataLoader(sketch_dataset, batch_size=b, shuffle=True, num_workers=4, drop_last=True)\\n      \\n\\n      net_1 = DANN() # Loading DANN\\n      net_2 = DANN()\\n      # 7 classes of PACS\\n      net_1.class_classifier[6] = nn.Linear(4096, 7) # nn.Linear in pytorch is a fully connected layer\\n                                                 # The convolutional layer is nn.Conv2d\\n      net_2.class_classifier[6] = nn.Linear(4096, 7)                                         \\n\\n      optimizer_1 = optim.SGD(net_1.parameters(), lr=l, momentum=MOMENTUM, weight_decay=WEIGHT_DECAY)\\n      optimizer_2 = optim.SGD(net_2.parameters(), lr=l, momentum=MOMENTUM, weight_decay=WEIGHT_DECAY)\\n\\n      loss_class = nn.CrossEntropyLoss()\\n      loss_domain = nn.CrossEntropyLoss()\\n\\n      net_1 = net_1.cuda()\\n      net_2 = net_2.cuda()\\n\\n      loss_class = loss_class.cuda()\\n      loss_domain = loss_domain.cuda()\\n\\n      for p in net_1.parameters():\\n        p.requires_grad = True\\n      for p in net_2.parameters():\\n        p.requires_grad = True\\n\\n      # By default, everything is loaded to cpu\\n      net_1 = net_1.to(DEVICE) # this will bring the network to GPU if DEVICE is cuda\\n      net_2 = net_2.to(DEVICE)\\n      cudnn.benchmark # Calling this optimizes runtime\\n      \\n      num_epochs = 5\\n      # Start iterating over the epochs\\n      for epoch in range(num_epochs):\\n        # Train model with source data\\n        iter_target = iter(target_dataloader_1)\\n        for xs,ys in source_dataloader:\\n          net_1.zero_grad()\\n          try:\\n            xt,yt = next(iter_target)\\n          except:\\n          #if i finish target data i restart iteration over them to finish source data\\n            iter_target = iter(target_dataloader_1)\\n            xt,yt = next(iter_target)\\n          \\n          \\n          xs = xs.to(DEVICE)\\n          ys = ys.to(DEVICE)\\n          xt = xt.to(DEVICE)\\n          ysd = torch.zeros(b).long().to(DEVICE)\\n          yt = torch.ones(b).long().to(DEVICE)\\n      \\n          #Train classifier\\n          class_output = net_1(input_data=xs,alpha = None)\\n          err_s_label = loss_class(class_output, ys)\\n          err_s_label.backward()\\n\\n          #Train discriminator source data\\n          domain_output = net_1(input_data=xs,alpha=a)\\n          err_s_domain = loss_domain(domain_output, ysd)\\n          err_s_domain.backward()\\n\\n          #Train discriminator target data\\n          domain_output = net_1(input_data=xt,alpha=a)\\n          err_t_domain = loss_domain(domain_output,yt)\\n          err_t_domain.backward()\\n    \\n          optimizer_1.step()\\n\\n        iter_target = iter(target_dataloader_2)\\n          \\n        for xs,ys in source_dataloader:\\n          net_2.zero_grad()\\n          try:\\n            xt,yt = next(iter_target)\\n          except:\\n          #if i finish target data i restart iteration over them to finish source data\\n            iter_target = iter(target_dataloader_2)\\n            xt,yt = next(iter_target)\\n          \\n          \\n          xs = xs.to(DEVICE)\\n          ys = ys.to(DEVICE)\\n          xt = xt.to(DEVICE)\\n          ysd = torch.zeros(b).long().to(DEVICE)\\n          yt = torch.ones(b).long().to(DEVICE)\\n      \\n          #Train classifier\\n          class_output = net_2(input_data=xs,alpha = None)\\n          err_s_label = loss_class(class_output, ys)\\n          err_s_label.backward()\\n\\n          #Train discriminator source data\\n          domain_output = net_2(input_data=xs,alpha=a)\\n          err_s_domain = loss_domain(domain_output, ysd)\\n          err_s_domain.backward()\\n\\n          #Train discriminator target data\\n          domain_output = net_2(input_data=xt,alpha=a)\\n          err_t_domain = loss_domain(domain_output,yt)\\n          err_t_domain.backward()\\n    \\n          optimizer_2.step()    \\n      #Validate model\\n      net_1.train(False)\\n      net_2.train(False)\\n\\n      running_corrects = 0\\n      for images, labels in tqdm(target_dataloader_1):\\n        images = images.to(DEVICE)\\n        labels = labels.to(DEVICE)\\n        # Forward Pass\\n        outputs = net_1(images,alpha = None)\\n        # Get predictions\\n        _, preds = torch.max(outputs.data, 1)\\n        # Update Corrects\\n        running_corrects += torch.sum(preds == labels.data).data.item()\\n      accuracy_1 = running_corrects / float(len(cartoon_dataset))\\n\\n      running_corrects = 0\\n      for images, labels in tqdm(target_dataloader_2):\\n        images = images.to(DEVICE)\\n        labels = labels.to(DEVICE)\\n        # Forward Pass\\n        outputs = net_2(images,alpha = None)\\n        # Get predictions\\n        _, preds = torch.max(outputs.data, 1)\\n        # Update Corrects\\n        running_corrects += torch.sum(preds == labels.data).data.item()\\n      accuracy_2 = running_corrects / float(len(sketch_dataset))\\n\\n      accuracy = (accuracy_1 + accuracy_2)/2\\n\\n      if(best_accuracy < accuracy):\\n        best_accuracy = accuracy\\n        best_lr = l\\n        best_alpha = a\\n        best_batch_size = b\\n\\nLR = best_lr\\nALPHA = best_alpha\\nBATCH_SIZE = best_batch_size\\n\\nprint(\"LR %f\",LR)\\nprint(\"ALPHA %f\",ALPHA)\\nprint(\"BATCH_SIZE\",BATCH_SIZE)\\nprint(\"Accuracy %f\",best_accuracy)\\n'"
            ]
          },
          "metadata": {
            "tags": []
          },
          "execution_count": 50
        }
      ]
    },
    {
      "cell_type": "markdown",
      "metadata": {
        "id": "lsy8hIg0_vW4",
        "colab_type": "text"
      },
      "source": [
        "**Train no domain adaptation**"
      ]
    },
    {
      "cell_type": "code",
      "metadata": {
        "id": "Mug-CdI9_1JQ",
        "colab_type": "code",
        "outputId": "6e332449-2dc7-4f47-9d0c-8931e2b07b63",
        "colab": {
          "base_uri": "https://localhost:8080/",
          "height": 265
        }
      },
      "source": [
        "\n",
        "#Use of epochs validation splitting target dataset\n",
        "\n",
        "\n",
        "source_dataloader = DataLoader(photo_dataset, batch_size=BATCH_SIZE, shuffle=True,num_workers=4, drop_last=True)\n",
        "target_dataloader = DataLoader(art_dataset, batch_size=BATCH_SIZE, shuffle=True, num_workers=4, drop_last=True)\n",
        "\n",
        "net = DANN() # Loading DANN\n",
        "# 7 classes of PACS\n",
        "net.class_classifier[6] = nn.Linear(4096, 7) # nn.Linear in pytorch is a fully connected layer\n",
        "                                                 # The convolutional layer is nn.Conv2d\n",
        "\n",
        "optimizer = optim.SGD(net.parameters(), lr=LR, momentum=MOMENTUM, weight_decay=WEIGHT_DECAY)\n",
        "\n",
        "loss_class = nn.CrossEntropyLoss()\n",
        "\n",
        "net = net.cuda()\n",
        "loss_class = loss_class.cuda()\n",
        "\n",
        "for p in net.parameters():\n",
        "    p.requires_grad = True\n",
        "\n",
        "# By default, everything is loaded to cpu\n",
        "net = net.to(DEVICE) # this will bring the network to GPU if DEVICE is cuda\n",
        "\n",
        "cudnn.benchmark # Calling this optimizes runtime\n",
        "\n",
        "loss_classifier_list = []\n",
        "# Start iterating over the epochs\n",
        "for epoch in range(NUM_EPOCHS):\n",
        "  # Train model with source data\n",
        "  for images, labels in source_dataloader:\n",
        "    # Bring data over the device of choice\n",
        "    optimizer.zero_grad() # Zero-ing the gradients\n",
        "    images = images.to(DEVICE)\n",
        "    labels = labels.to(DEVICE)\n",
        "    #Train classifier\n",
        "    optimizer.zero_grad()\n",
        "    class_output = net(input_data=images,alpha = None)\n",
        "    err_s_label = loss_class(class_output, labels)\n",
        "    err_s_label.backward()\n",
        "    optimizer.step()\n",
        "  loss_classifier_list.append(err_s_label)\n",
        "\n",
        " \n",
        "epochs =[i for i in range(NUM_EPOCHS)]\n",
        "plt.plot(epochs,loss_classifier_list,label = 'loss classifier')\n",
        "plt.legend()\n",
        "plt.show()\n"
      ],
      "execution_count": 51,
      "outputs": [
        {
          "output_type": "display_data",
          "data": {
            "image/png": "[encoded data removed]",
            "text/plain": [
              "<Figure size 432x288 with 1 Axes>"
            ]
          },
          "metadata": {
            "tags": []
          }
        }
      ]
    },
    {
      "cell_type": "markdown",
      "metadata": {
        "id": "AxYUli9d9uYQ",
        "colab_type": "text"
      },
      "source": [
        "**Train**"
      ]
    },
    {
      "cell_type": "code",
      "metadata": {
        "id": "ZcoQ5fD49yT_",
        "colab_type": "code",
        "colab": {
          "base_uri": "https://localhost:8080/",
          "height": 54
        },
        "outputId": "6d6bec3d-015c-4f16-ee3c-649312783908"
      },
      "source": [
        "'''\n",
        "#Use of epochs validation splitting target dataset\n",
        "\n",
        "\n",
        "\n",
        "source_dataloader = DataLoader(photo_dataset, batch_size=BATCH_SIZE, shuffle=True,num_workers=4, drop_last=True)\n",
        "target_dataloader = DataLoader(art_dataset, batch_size=BATCH_SIZE, shuffle=True, num_workers=4, drop_last=True)\n",
        "\n",
        "\n",
        "\n",
        "net = DANN() # Loading DANN\n",
        "# 7 classes of PACS\n",
        "net.class_classifier[6] = nn.Linear(4096, 7) # nn.Linear in pytorch is a fully connected layer\n",
        "                                                 # The convolutional layer is nn.Conv2d\n",
        "\n",
        "                                                \n",
        "\n",
        "optimizer = optim.SGD(net.parameters(), lr=LR, momentum=MOMENTUM, weight_decay=WEIGHT_DECAY)\n",
        "\n",
        "for p in net.parameters():\n",
        "    p.requires_grad = True \n",
        "\n",
        "loss_class = nn.CrossEntropyLoss()\n",
        "loss_domain = nn.CrossEntropyLoss()\n",
        "\n",
        "net = net.cuda()\n",
        "loss_class = loss_class.cuda()\n",
        "loss_domain = loss_domain.cuda()\n",
        "\n",
        "\n",
        "\n",
        "# By default, everything is loaded to cpu\n",
        "net = net.to(DEVICE) # this will bring the network to GPU if DEVICE is cuda\n",
        "\n",
        "cudnn.benchmark # Calling this optimizes runtime\n",
        "\n",
        "loss_classifier_list = []\n",
        "loss_s_domain_list = []\n",
        "loss_t_domain_list = []\n",
        "best_accuracy = 0\n",
        "best_net = None\n",
        "\n",
        "\n",
        "# Start iterating over the epochs\n",
        "\n",
        "for epoch in range(NUM_EPOCHS):\n",
        "  # Train model with source data\n",
        "  iter_target = iter(target_dataloader)\n",
        "\n",
        "\n",
        "  for xs,ys in source_dataloader:\n",
        "    net.zero_grad()\n",
        "    try:\n",
        "      xt,yt = next(iter_target)\n",
        "    except:\n",
        "      #if i finish target data i restart iteration over them to finish source data\n",
        "      iter_target = iter(target_dataloader)\n",
        "      xt,yt = next(iter_target)\n",
        "    \n",
        "    xs = xs.to(DEVICE)\n",
        "    ys = ys.to(DEVICE)\n",
        "    xt = xt.to(DEVICE)\n",
        "    ysd = torch.zeros(BATCH_SIZE).long().to(DEVICE)\n",
        "    yt = torch.ones(BATCH_SIZE).long().to(DEVICE)\n",
        "      \n",
        "    #Train classifier\n",
        "    class_output = net(input_data=xs,alpha = None)\n",
        "    err_s_label = loss_class(class_output, ys)\n",
        "    err_s_label.backward()\n",
        "\n",
        "    #Train discriminator source data\n",
        "    domain_output = net(input_data=xs,alpha=ALPHA)\n",
        "    err_s_domain = loss_domain(domain_output, ysd)\n",
        "    err_s_domain.backward()\n",
        "\n",
        "    #Train discriminator target data\n",
        "    domain_output = net(input_data=xt,alpha=ALPHA)\n",
        "    err_t_domain = loss_domain(domain_output,yt)\n",
        "    err_t_domain.backward()\n",
        "\n",
        "    optimizer.step()\n",
        "  loss_s_domain_list.append(err_s_domain.item())\n",
        "  loss_classifier_list.append(err_s_label.item())\n",
        "  loss_t_domain_list.append(err_t_domain.item())\n",
        "   \n",
        "epochs =[i for i in range(NUM_EPOCHS)]\n",
        "plt.plot(epochs,loss_s_domain_list,label = 'loss source domain')\n",
        "plt.plot(epochs,loss_t_domain_list,label = 'loss target domain')\n",
        "plt.plot(epochs,loss_classifier_list,label = 'loss classifier')\n",
        "plt.legend()\n",
        "plt.show()\n",
        "\n",
        "'''\n",
        " \n"
      ],
      "execution_count": 52,
      "outputs": [
        {
          "output_type": "execute_result",
          "data": {
            "text/plain": [
              "\"\\n#Use of epochs validation splitting target dataset\\n\\n\\n\\nsource_dataloader = DataLoader(photo_dataset, batch_size=BATCH_SIZE, shuffle=True,num_workers=4, drop_last=True)\\ntarget_dataloader = DataLoader(art_dataset, batch_size=BATCH_SIZE, shuffle=True, num_workers=4, drop_last=True)\\n\\n\\n\\nnet = DANN() # Loading DANN\\n# 7 classes of PACS\\nnet.class_classifier[6] = nn.Linear(4096, 7) # nn.Linear in pytorch is a fully connected layer\\n                                                 # The convolutional layer is nn.Conv2d\\n\\n                                                \\n\\noptimizer = optim.SGD(net.parameters(), lr=LR, momentum=MOMENTUM, weight_decay=WEIGHT_DECAY)\\n\\nfor p in net.parameters():\\n    p.requires_grad = True \\n\\nloss_class = nn.CrossEntropyLoss()\\nloss_domain = nn.CrossEntropyLoss()\\n\\nnet = net.cuda()\\nloss_class = loss_class.cuda()\\nloss_domain = loss_domain.cuda()\\n\\n\\n\\n# By default, everything is loaded to cpu\\nnet = net.to(DEVICE) # this will bring the network to GPU if DEVICE is cuda\\n\\ncudnn.benchmark # Calling this optimizes runtime\\n\\nloss_classifier_list = []\\nloss_s_domain_list = []\\nloss_t_domain_list = []\\nbest_accuracy = 0\\nbest_net = None\\n\\n\\n# Start iterating over the epochs\\n\\nfor epoch in range(NUM_EPOCHS):\\n  # Train model with source data\\n  iter_target = iter(target_dataloader)\\n\\n\\n  for xs,ys in source_dataloader:\\n    net.zero_grad()\\n    try:\\n      xt,yt = next(iter_target)\\n    except:\\n      #if i finish target data i restart iteration over them to finish source data\\n      iter_target = iter(target_dataloader)\\n      xt,yt = next(iter_target)\\n    \\n    xs = xs.to(DEVICE)\\n    ys = ys.to(DEVICE)\\n    xt = xt.to(DEVICE)\\n    ysd = torch.zeros(BATCH_SIZE).long().to(DEVICE)\\n    yt = torch.ones(BATCH_SIZE).long().to(DEVICE)\\n      \\n    #Train classifier\\n    class_output = net(input_data=xs,alpha = None)\\n    err_s_label = loss_class(class_output, ys)\\n    err_s_label.backward()\\n\\n    #Train discriminator source data\\n    domain_output = net(input_data=xs,alpha=ALPHA)\\n    err_s_domain = loss_domain(domain_output, ysd)\\n    err_s_domain.backward()\\n\\n    #Train discriminator target data\\n    domain_output = net(input_data=xt,alpha=ALPHA)\\n    err_t_domain = loss_domain(domain_output,yt)\\n    err_t_domain.backward()\\n\\n    optimizer.step()\\n  loss_s_domain_list.append(err_s_domain.item())\\n  loss_classifier_list.append(err_s_label.item())\\n  loss_t_domain_list.append(err_t_domain.item())\\n   \\nepochs =[i for i in range(NUM_EPOCHS)]\\nplt.plot(epochs,loss_s_domain_list,label = 'loss source domain')\\nplt.plot(epochs,loss_t_domain_list,label = 'loss target domain')\\nplt.plot(epochs,loss_classifier_list,label = 'loss classifier')\\nplt.legend()\\nplt.show()\\n\\n\""
            ]
          },
          "metadata": {
            "tags": []
          },
          "execution_count": 52
        }
      ]
    },
    {
      "cell_type": "markdown",
      "metadata": {
        "id": "UsHFI-GAJd69",
        "colab_type": "text"
      },
      "source": [
        "**Test**"
      ]
    },
    {
      "cell_type": "code",
      "metadata": {
        "id": "EO3HV5pqJg1o",
        "colab_type": "code",
        "colab": {
          "base_uri": "https://localhost:8080/",
          "height": 51
        },
        "outputId": "6160b7c8-91f1-40f2-ca52-6ce0f9a7d324"
      },
      "source": [
        "\n",
        "target_dataloader = DataLoader(art_dataset, batch_size=BATCH_SIZE, shuffle=True, num_workers=4, drop_last=True)\n",
        "\n",
        "net = net.to(DEVICE) # this will bring the network to GPU if DEVICE is cuda\n",
        "net.train(False) # Set Network to evaluation mode\n",
        "\n",
        "running_corrects = 0\n",
        "for images, labels in tqdm(target_dataloader):\n",
        "  images = images.to(DEVICE)\n",
        "  labels = labels.to(DEVICE)\n",
        "\n",
        "\n",
        "  # Forward Pass\n",
        "  outputs = net(images,alpha = None)\n",
        "\n",
        "  # Get predictions\n",
        "  _, preds = torch.max(outputs.data, 1)\n",
        "\n",
        "  # Update Corrects\n",
        "  running_corrects += torch.sum(preds == labels.data).data.item()\n",
        "\n",
        "\n",
        "# Calculate Accuracy\n",
        "accuracy = running_corrects / float(len(art_dataset))\n",
        "\n",
        "print('Test Accuracy classification: {}'.format(accuracy))\n",
        "\n"
      ],
      "execution_count": 53,
      "outputs": [
        {
          "output_type": "stream",
          "text": [
            "100%|██████████| 32/32 [00:06<00:00,  4.74it/s]"
          ],
          "name": "stderr"
        },
        {
          "output_type": "stream",
          "text": [
            "Test Accuracy classification: 0.4833984375\n"
          ],
          "name": "stdout"
        },
        {
          "output_type": "stream",
          "text": [
            "\n"
          ],
          "name": "stderr"
        }
      ]
    }
  ]
}